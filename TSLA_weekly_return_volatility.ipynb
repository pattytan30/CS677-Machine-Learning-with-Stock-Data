{
 "cells": [
  {
   "cell_type": "code",
   "execution_count": 13,
   "metadata": {},
   "outputs": [],
   "source": [
    "from pandas_datareader import data as web\n",
    "import math\n",
    "import numpy as np \n",
    "import pandas as pd\n",
    "\n",
    "ticker = \"TSLA\"\n",
    "df = pd.read_csv(\"TSLA.csv\")\n",
    "\n",
    "try:\n",
    "    df = web.get_data_yahoo(ticker, start='2014-01-01',end='2019-12-31')\n",
    "    df['Return'] = df['Adj Close'].pct_change()\n",
    "    df['Return'].fillna(0, inplace = True)\n",
    "    df['Return'] = 100.0 * df['Return']\n",
    "    df['Return'] = df['Return'].round(3)        \n",
    "    df['Date'] = df.index\n",
    "    df['Date'] = pd.to_datetime(df['Date'])\n",
    "    df['Week_Number'] = df['Date'].dt.strftime('%U')\n",
    "    df['Year'] = df['Date'].dt.year \n",
    "    df_2 = df[['Year', 'Week_Number', 'Return']]\n",
    "    df_2.index = range(len(df))\n",
    "    df_grouped = df_2.groupby(['Year', 'Week_Number'])['Return'].agg([np.mean, np.std])\n",
    "    df_grouped.reset_index(['Year', 'Week_Number'], inplace=True)\n",
    "    df_grouped.rename(columns={'mean': 'mean_return', 'std':'volatility'}, inplace=True)\n",
    "    df_grouped.fillna(0, inplace=True)\n",
    "    df_grouped.to_csv(\"TSLA_weekly_return_volatility.csv\", index=False)\n",
    "\n",
    "except Exception as e:\n",
    "    print(e)\n"
   ]
  },
  {
   "cell_type": "code",
   "execution_count": null,
   "metadata": {},
   "outputs": [],
   "source": []
  },
  {
   "cell_type": "code",
   "execution_count": null,
   "metadata": {},
   "outputs": [],
   "source": []
  }
 ],
 "metadata": {
  "kernelspec": {
   "display_name": "Python 3",
   "language": "python",
   "name": "python3"
  },
  "language_info": {
   "codemirror_mode": {
    "name": "ipython",
    "version": 3
   },
   "file_extension": ".py",
   "mimetype": "text/x-python",
   "name": "python",
   "nbconvert_exporter": "python",
   "pygments_lexer": "ipython3",
   "version": "3.7.6"
  }
 },
 "nbformat": 4,
 "nbformat_minor": 4
}
