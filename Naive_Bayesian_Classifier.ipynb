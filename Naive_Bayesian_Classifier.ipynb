{
 "cells": [
  {
   "cell_type": "code",
   "execution_count": 1,
   "metadata": {},
   "outputs": [],
   "source": [
    "import pandas as pd\n",
    "from sklearn.naive_bayes import GaussianNB\n",
    "from sklearn.metrics import accuracy_score, confusion_matrix\n",
    "from strategy_implementation import *\n",
    "\n",
    "df = pd.read_csv(\"TSLA_weekly_return_volatility.csv\")\n",
    "df_18 = df.loc[df[\"Year\"] == 2018]\n",
    "df_19 = df.loc[df[\"Year\"] == 2019]"
   ]
  },
  {
   "cell_type": "code",
   "execution_count": 2,
   "metadata": {},
   "outputs": [],
   "source": [
    "X_train = df_18[[\"mean_return\", \"volatility\"]].values\n",
    "X_test = df_19[[\"mean_return\", \"volatility\"]].values\n",
    "Y_train = df_18[\"label\"].values\n",
    "Y_test = df_19[\"label\"].values\n",
    "native_bayesian_classifier = GaussianNB().fit(X_train, Y_train)\n",
    "y_predict = native_bayesian_classifier.predict(X_test)"
   ]
  },
  {
   "cell_type": "markdown",
   "metadata": {},
   "source": [
    "### 1. Accuracy "
   ]
  },
  {
   "cell_type": "code",
   "execution_count": 3,
   "metadata": {},
   "outputs": [
    {
     "name": "stdout",
     "output_type": "stream",
     "text": [
      "The accuracy of implementing Naive Bayesian for 2019 is 0.96\n"
     ]
    }
   ],
   "source": [
    "acc = accuracy_score(Y_test, y_predict)\n",
    "print(\"The accuracy of implementing Naive Bayesian for 2019 is\", round(acc,2))"
   ]
  },
  {
   "cell_type": "markdown",
   "metadata": {},
   "source": [
    "### 2. Confusion Matrix"
   ]
  },
  {
   "cell_type": "code",
   "execution_count": 4,
   "metadata": {},
   "outputs": [
    {
     "name": "stdout",
     "output_type": "stream",
     "text": [
      "The confusion matrix for 2019: \n",
      " [[22  2]\n",
      " [ 0 29]]\n"
     ]
    }
   ],
   "source": [
    "cf_matrix = confusion_matrix(Y_test, y_predict)\n",
    "print(\"The confusion matrix for 2019: \\n\", cf_matrix)"
   ]
  },
  {
   "cell_type": "markdown",
   "metadata": {},
   "source": [
    "### 3. True positive and true negative"
   ]
  },
  {
   "cell_type": "code",
   "execution_count": 5,
   "metadata": {},
   "outputs": [
    {
     "name": "stdout",
     "output_type": "stream",
     "text": [
      "The true positive rate is 0.94 and the true negative rate is 1.0.\n"
     ]
    }
   ],
   "source": [
    "true_positive_rate = cf_matrix[1][1] / (cf_matrix[0][1] + cf_matrix[1][1])\n",
    "true_negative_rate = cf_matrix[0][0] / (cf_matrix[0][0] + cf_matrix[1][0])\n",
    "print(f\"The true positive rate is {round(true_positive_rate, 2)} \\\n",
    "and the true negative rate is {round(true_negative_rate, 2)}.\")"
   ]
  },
  {
   "cell_type": "markdown",
   "metadata": {},
   "source": [
    "### 4. Implement trading strategy"
   ]
  },
  {
   "cell_type": "code",
   "execution_count": 6,
   "metadata": {},
   "outputs": [
    {
     "name": "stdout",
     "output_type": "stream",
     "text": [
      "The final value of balance with strategy implementation is 449.76\n"
     ]
    }
   ],
   "source": [
    "df_trade = pd.read_csv(\"Trade_18_19.csv\")\n",
    "df_trade_19 = df_trade.loc[df_trade[\"Year\"] == 2019].reset_index()\n",
    "invest = 100\n",
    "\n",
    "# Naive Bayesian strategy\n",
    "green_week_index = green_week(y_predict)\n",
    "df_implement = profit_loss_balance(df_trade_19, invest, green_week_index)\n",
    "NB_final_value = final_balance(df_implement)\n",
    "print(\"The final value of balance with strategy implementation is\", NB_final_value)"
   ]
  },
  {
   "cell_type": "code",
   "execution_count": 7,
   "metadata": {},
   "outputs": [
    {
     "name": "stdout",
     "output_type": "stream",
     "text": [
      "The final value of balance with the label strategy is 456.7\n"
     ]
    }
   ],
   "source": [
    "# Original label strategy\n",
    "green_week_orginal = Y_test.tolist()\n",
    "green_week_original_index = green_week(green_week_orginal)\n",
    "df_original = profit_loss_balance(df_trade_19, invest, green_week_original_index)\n",
    "original_final_value = final_balance(df_original)\n",
    "print(\"The final value of balance with the label strategy is\", original_final_value)"
   ]
  },
  {
   "cell_type": "code",
   "execution_count": 8,
   "metadata": {},
   "outputs": [
    {
     "name": "stdout",
     "output_type": "stream",
     "text": [
      "The final value of balance with the buy-and-hold strategy is 134.89\n"
     ]
    }
   ],
   "source": [
    "# buy-and-hold strategy\n",
    "adj_close = df_trade_19[\"Adj Close\"].values\n",
    "buy_in_price = adj_close[0]\n",
    "close_price = adj_close[-1]\n",
    "buy_hold_final_value = buy_hold(invest, buy_in_price, close_price)\n",
    "print(\"The final value of balance with the buy-and-hold strategy is\", buy_hold_final_value)"
   ]
  },
  {
   "cell_type": "markdown",
   "metadata": {},
   "source": [
    "The Naive Bayesian strategy is very accurate and its implementation can result in high ending balance."
   ]
  },
  {
   "cell_type": "code",
   "execution_count": null,
   "metadata": {},
   "outputs": [],
   "source": []
  }
 ],
 "metadata": {
  "kernelspec": {
   "display_name": "Python 3",
   "language": "python",
   "name": "python3"
  },
  "language_info": {
   "codemirror_mode": {
    "name": "ipython",
    "version": 3
   },
   "file_extension": ".py",
   "mimetype": "text/x-python",
   "name": "python",
   "nbconvert_exporter": "python",
   "pygments_lexer": "ipython3",
   "version": "3.7.6"
  }
 },
 "nbformat": 4,
 "nbformat_minor": 4
}
