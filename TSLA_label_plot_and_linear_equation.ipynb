{
 "cells": [
  {
   "cell_type": "markdown",
   "metadata": {},
   "source": [
    "## 1. Plot weekly labels for 2018 and 2019"
   ]
  },
  {
   "cell_type": "code",
   "execution_count": 1,
   "metadata": {},
   "outputs": [
    {
     "data": {
      "text/html": [
       "<div>\n",
       "<style scoped>\n",
       "    .dataframe tbody tr th:only-of-type {\n",
       "        vertical-align: middle;\n",
       "    }\n",
       "\n",
       "    .dataframe tbody tr th {\n",
       "        vertical-align: top;\n",
       "    }\n",
       "\n",
       "    .dataframe thead th {\n",
       "        text-align: right;\n",
       "    }\n",
       "</style>\n",
       "<table border=\"1\" class=\"dataframe\">\n",
       "  <thead>\n",
       "    <tr style=\"text-align: right;\">\n",
       "      <th></th>\n",
       "      <th>index</th>\n",
       "      <th>Year</th>\n",
       "      <th>Week_Number</th>\n",
       "      <th>mean_return</th>\n",
       "      <th>volatility</th>\n",
       "      <th>label</th>\n",
       "      <th>weekly return</th>\n",
       "    </tr>\n",
       "  </thead>\n",
       "  <tbody>\n",
       "    <tr>\n",
       "      <th>0</th>\n",
       "      <td>210</td>\n",
       "      <td>2018</td>\n",
       "      <td>0</td>\n",
       "      <td>0.42975</td>\n",
       "      <td>1.832472</td>\n",
       "      <td>green</td>\n",
       "      <td>-1.232338</td>\n",
       "    </tr>\n",
       "    <tr>\n",
       "      <th>1</th>\n",
       "      <td>211</td>\n",
       "      <td>2018</td>\n",
       "      <td>1</td>\n",
       "      <td>1.24340</td>\n",
       "      <td>2.890522</td>\n",
       "      <td>green</td>\n",
       "      <td>6.127356</td>\n",
       "    </tr>\n",
       "    <tr>\n",
       "      <th>2</th>\n",
       "      <td>212</td>\n",
       "      <td>2018</td>\n",
       "      <td>2</td>\n",
       "      <td>1.01650</td>\n",
       "      <td>1.236940</td>\n",
       "      <td>green</td>\n",
       "      <td>4.305365</td>\n",
       "    </tr>\n",
       "    <tr>\n",
       "      <th>3</th>\n",
       "      <td>213</td>\n",
       "      <td>2018</td>\n",
       "      <td>3</td>\n",
       "      <td>-0.40160</td>\n",
       "      <td>1.688542</td>\n",
       "      <td>red</td>\n",
       "      <td>0.000000</td>\n",
       "    </tr>\n",
       "    <tr>\n",
       "      <th>4</th>\n",
       "      <td>214</td>\n",
       "      <td>2018</td>\n",
       "      <td>4</td>\n",
       "      <td>0.06780</td>\n",
       "      <td>1.964960</td>\n",
       "      <td>red</td>\n",
       "      <td>0.286655</td>\n",
       "    </tr>\n",
       "  </tbody>\n",
       "</table>\n",
       "</div>"
      ],
      "text/plain": [
       "   index  Year  Week_Number  mean_return  volatility  label  weekly return\n",
       "0    210  2018            0      0.42975    1.832472  green      -1.232338\n",
       "1    211  2018            1      1.24340    2.890522  green       6.127356\n",
       "2    212  2018            2      1.01650    1.236940  green       4.305365\n",
       "3    213  2018            3     -0.40160    1.688542    red       0.000000\n",
       "4    214  2018            4      0.06780    1.964960    red       0.286655"
      ]
     },
     "execution_count": 1,
     "metadata": {},
     "output_type": "execute_result"
    }
   ],
   "source": [
    "import pandas as pd\n",
    "import matplotlib.pyplot as plt\n",
    "import numpy as np\n",
    "from strategy_implementation import profit_loss_balance, final_balance\n",
    "\n",
    "df = pd.read_csv(\"TSLA_weekly_return_volatility.csv\")\n",
    "df_18_19 = df.loc[df[\"Year\"] >= 2018].reset_index()\n",
    "\n",
    "# import the csv with profit or loss result from week3 homework\n",
    "trade_18_19 = pd.read_csv(\"Trade_18_19.csv\") \n",
    "\n",
    "# add a new column of total weekly return from trade_18_19\n",
    "# the weekly return can be used as the size of spot\n",
    "df_18_19[\"weekly return\"] = 0\n",
    "profit_loss_18_19 = trade_18_19.groupby(\"Year_Week\")[\"Profit/Loss\"].sum().tolist()\n",
    "df_18_19[\"weekly return\"]= profit_loss_18_19\n",
    "\n",
    "# Noticed that mean return and volatility are already in percentage\n",
    "df_18_19.head()"
   ]
  },
  {
   "cell_type": "code",
   "execution_count": 2,
   "metadata": {},
   "outputs": [
    {
     "data": {
      "image/png": "[encoded data removed]",
      "text/plain": [
       "<Figure size 432x288 with 1 Axes>"
      ]
     },
     "metadata": {},
     "output_type": "display_data"
    }
   ],
   "source": [
    "# 2018 plot\n",
    "plt.style.use(\"seaborn-whitegrid\")\n",
    "df_18 = df_18_19.loc[(df_18_19[\"Year\"] == 2018)].reset_index()\n",
    "plt.scatter(df_18[\"mean_return\"], df_18[\"volatility\"], \n",
    "            s=30*np.absolute(df_18[\"weekly return\"]), c=df_18[\"label\"],alpha= 0.7 )\n",
    "plt.title(\"TSLA weekly stock label 2018\")\n",
    "plt.xlabel(\"Mean Return %\")\n",
    "plt.ylabel(\"Volatility %\")\n",
    "plt.tight_layout()\n",
    "plt.show()"
   ]
  },
  {
   "cell_type": "code",
   "execution_count": 3,
   "metadata": {},
   "outputs": [
    {
     "data": {
      "image/png": "[encoded data removed]",
      "text/plain": [
       "<Figure size 432x288 with 1 Axes>"
      ]
     },
     "metadata": {},
     "output_type": "display_data"
    }
   ],
   "source": [
    "# 2019 plot\n",
    "df_19 = df_18_19.loc[(df_18_19[\"Year\"] == 2019)].reset_index()\n",
    "plt.scatter(df_19[\"mean_return\"], df_19[\"volatility\"], \n",
    "            s=30*np.absolute(df_19[\"weekly return\"]), c=df_19[\"label\"], alpha= 0.6 )\n",
    "plt.title(\"TSLA weekly stock label 2019\")\n",
    "plt.xlabel(\"Mean Return %\")\n",
    "plt.ylabel(\"Volatility %\")\n",
    "plt.tight_layout()\n",
    "plt.show()"
   ]
  },
  {
   "cell_type": "markdown",
   "metadata": {},
   "source": [
    "#### From the 2 scatter plots above, red week and green week are grouped independently. The size of each spot can reflect the total weekly profit or loss. It usually goes bigger as the average mean return goes bigger. Basically the line separates red and green is on the 0 mean return. Even though some points are slightly over 0 mean, they are red as over 100% volatility. With the comparison of 2018 and 2019, they almost have the same pattern, but the points in 2019 are condesed more tightly. The pattern for both year is that no or just a little return is red condition while above 0 mean return is green condition. Given that I expect nearest-neighbor classifier trained in one year can do well in the other."
   ]
  },
  {
   "cell_type": "markdown",
   "metadata": {},
   "source": [
    "## 2. Linear equation strategy"
   ]
  },
  {
   "cell_type": "markdown",
   "metadata": {},
   "source": [
    "### 2.1 Calculate equation\n",
    "#### Based on the graph of 2018 above, remove some points that are overlapped with red and green. Then find two points to compute a linear equation. "
   ]
  },
  {
   "cell_type": "code",
   "execution_count": 4,
   "metadata": {},
   "outputs": [
    {
     "data": {
      "text/html": [
       "<div>\n",
       "<style scoped>\n",
       "    .dataframe tbody tr th:only-of-type {\n",
       "        vertical-align: middle;\n",
       "    }\n",
       "\n",
       "    .dataframe tbody tr th {\n",
       "        vertical-align: top;\n",
       "    }\n",
       "\n",
       "    .dataframe thead th {\n",
       "        text-align: right;\n",
       "    }\n",
       "</style>\n",
       "<table border=\"1\" class=\"dataframe\">\n",
       "  <thead>\n",
       "    <tr style=\"text-align: right;\">\n",
       "      <th></th>\n",
       "      <th>index</th>\n",
       "      <th>Year</th>\n",
       "      <th>Week_Number</th>\n",
       "      <th>mean_return</th>\n",
       "      <th>volatility</th>\n",
       "      <th>label</th>\n",
       "      <th>weekly return</th>\n",
       "    </tr>\n",
       "  </thead>\n",
       "  <tbody>\n",
       "    <tr>\n",
       "      <th>44</th>\n",
       "      <td>254</td>\n",
       "      <td>2018</td>\n",
       "      <td>44</td>\n",
       "      <td>0.2428</td>\n",
       "      <td>1.329629</td>\n",
       "      <td>green</td>\n",
       "      <td>2.455244</td>\n",
       "    </tr>\n",
       "    <tr>\n",
       "      <th>37</th>\n",
       "      <td>247</td>\n",
       "      <td>2018</td>\n",
       "      <td>37</td>\n",
       "      <td>0.2976</td>\n",
       "      <td>2.969240</td>\n",
       "      <td>green</td>\n",
       "      <td>2.045390</td>\n",
       "    </tr>\n",
       "  </tbody>\n",
       "</table>\n",
       "</div>"
      ],
      "text/plain": [
       "    index  Year  Week_Number  mean_return  volatility  label  weekly return\n",
       "44    254  2018           44       0.2428    1.329629  green       2.455244\n",
       "37    247  2018           37       0.2976    2.969240  green       2.045390"
      ]
     },
     "execution_count": 4,
     "metadata": {},
     "output_type": "execute_result"
    }
   ],
   "source": [
    "# find the two green points close to 0 mean return in the graph\n",
    "points = df_18_19.loc[(df_18_19[\"Year\"] == 2018) & (df_18_19[\"label\"] == \"green\") & (df_18_19[\"mean_return\"] >= 0)]\n",
    "points.sort_values(by=[\"mean_return\"]).head(2)"
   ]
  },
  {
   "cell_type": "code",
   "execution_count": 5,
   "metadata": {},
   "outputs": [
    {
     "name": "stdout",
     "output_type": "stream",
     "text": [
      "The line to separate red week and green week is y=29.92x-5.93\n"
     ]
    }
   ],
   "source": [
    "# calculate the equation: y = ax+b\n",
    "a = (2.9692 - 1.3296) / (0.2976 - 0.2428)\n",
    "b = 1.3296 - 0.2428 * a\n",
    "print(f\"The line to separate red week and green week is y={a:.2f}x{b:.2f}\")"
   ]
  },
  {
   "cell_type": "markdown",
   "metadata": {},
   "source": [
    "### 2.2 Apply the linear equation as a new strategy for year 2019\n",
    "#### If y > 29.92x-5.93, label red; if y <= 29.92x-5.93, label green."
   ]
  },
  {
   "cell_type": "code",
   "execution_count": 6,
   "metadata": {},
   "outputs": [
    {
     "data": {
      "image/png": "[encoded data removed]",
      "text/plain": [
       "<Figure size 432x288 with 1 Axes>"
      ]
     },
     "metadata": {},
     "output_type": "display_data"
    }
   ],
   "source": [
    "# assign labels for weeks\n",
    "new_19 = df_18_19.loc[(df_18_19[\"Year\"] == 2019)].reset_index()\n",
    "new_19.loc[new_19[\"volatility\"] - (29.92 * new_19[\"mean_return\"] - 5.93) > 0 , [\"label\"]] = \"red\"\n",
    "new_19.loc[new_19[\"volatility\"] - (29.92 * new_19[\"mean_return\"] - 5.93) <= 0 , [\"label\"]] = \"green\"\n",
    "\n",
    "# plot the new labels and draw the equation line\n",
    "fig, ax = plt.subplots()\n",
    "plt.scatter(new_19[\"mean_return\"], new_19[\"volatility\"], \n",
    "            s=30*np.absolute(new_19[\"weekly return\"]), c=new_19[\"label\"], alpha= 0.6 )\n",
    "x = np.random.randint(2, size=5)\n",
    "y = 29.92 * x - 5.93\n",
    "ax.plot(x,y)\n",
    "plt.title(\"TSLA weekly stock new label 2019\")\n",
    "plt.xlabel(\"Mean Return\")\n",
    "plt.ylabel(\"Volatility\")\n",
    "plt.tight_layout()\n",
    "plt.show()"
   ]
  },
  {
   "cell_type": "code",
   "execution_count": 7,
   "metadata": {},
   "outputs": [
    {
     "data": {
      "text/html": [
       "<div>\n",
       "<style scoped>\n",
       "    .dataframe tbody tr th:only-of-type {\n",
       "        vertical-align: middle;\n",
       "    }\n",
       "\n",
       "    .dataframe tbody tr th {\n",
       "        vertical-align: top;\n",
       "    }\n",
       "\n",
       "    .dataframe thead th {\n",
       "        text-align: right;\n",
       "    }\n",
       "</style>\n",
       "<table border=\"1\" class=\"dataframe\">\n",
       "  <thead>\n",
       "    <tr style=\"text-align: right;\">\n",
       "      <th></th>\n",
       "      <th>index</th>\n",
       "      <th>Week_Number</th>\n",
       "      <th>Return</th>\n",
       "      <th>Profit/Loss</th>\n",
       "      <th>Account Balance</th>\n",
       "    </tr>\n",
       "  </thead>\n",
       "  <tbody>\n",
       "    <tr>\n",
       "      <th>0</th>\n",
       "      <td>251</td>\n",
       "      <td>0</td>\n",
       "      <td>-0.068149</td>\n",
       "      <td>0.000000</td>\n",
       "      <td>100.000000</td>\n",
       "    </tr>\n",
       "    <tr>\n",
       "      <th>1</th>\n",
       "      <td>252</td>\n",
       "      <td>0</td>\n",
       "      <td>-0.031472</td>\n",
       "      <td>0.000000</td>\n",
       "      <td>100.000000</td>\n",
       "    </tr>\n",
       "    <tr>\n",
       "      <th>2</th>\n",
       "      <td>253</td>\n",
       "      <td>0</td>\n",
       "      <td>0.057697</td>\n",
       "      <td>0.000000</td>\n",
       "      <td>100.000000</td>\n",
       "    </tr>\n",
       "    <tr>\n",
       "      <th>3</th>\n",
       "      <td>254</td>\n",
       "      <td>1</td>\n",
       "      <td>0.054361</td>\n",
       "      <td>5.436113</td>\n",
       "      <td>105.436113</td>\n",
       "    </tr>\n",
       "    <tr>\n",
       "      <th>4</th>\n",
       "      <td>255</td>\n",
       "      <td>1</td>\n",
       "      <td>0.001164</td>\n",
       "      <td>0.122766</td>\n",
       "      <td>105.558879</td>\n",
       "    </tr>\n",
       "    <tr>\n",
       "      <th>...</th>\n",
       "      <td>...</td>\n",
       "      <td>...</td>\n",
       "      <td>...</td>\n",
       "      <td>...</td>\n",
       "      <td>...</td>\n",
       "    </tr>\n",
       "    <tr>\n",
       "      <th>247</th>\n",
       "      <td>498</td>\n",
       "      <td>51</td>\n",
       "      <td>0.014384</td>\n",
       "      <td>6.415138</td>\n",
       "      <td>452.410916</td>\n",
       "    </tr>\n",
       "    <tr>\n",
       "      <th>248</th>\n",
       "      <td>499</td>\n",
       "      <td>51</td>\n",
       "      <td>0.013380</td>\n",
       "      <td>6.053426</td>\n",
       "      <td>458.464341</td>\n",
       "    </tr>\n",
       "    <tr>\n",
       "      <th>249</th>\n",
       "      <td>500</td>\n",
       "      <td>51</td>\n",
       "      <td>-0.001299</td>\n",
       "      <td>-0.595765</td>\n",
       "      <td>457.868576</td>\n",
       "    </tr>\n",
       "    <tr>\n",
       "      <th>250</th>\n",
       "      <td>501</td>\n",
       "      <td>52</td>\n",
       "      <td>-0.036433</td>\n",
       "      <td>0.000000</td>\n",
       "      <td>457.868576</td>\n",
       "    </tr>\n",
       "    <tr>\n",
       "      <th>251</th>\n",
       "      <td>502</td>\n",
       "      <td>52</td>\n",
       "      <td>0.008753</td>\n",
       "      <td>0.000000</td>\n",
       "      <td>457.868576</td>\n",
       "    </tr>\n",
       "  </tbody>\n",
       "</table>\n",
       "<p>252 rows × 5 columns</p>\n",
       "</div>"
      ],
      "text/plain": [
       "     index  Week_Number    Return  Profit/Loss  Account Balance\n",
       "0      251            0 -0.068149     0.000000       100.000000\n",
       "1      252            0 -0.031472     0.000000       100.000000\n",
       "2      253            0  0.057697     0.000000       100.000000\n",
       "3      254            1  0.054361     5.436113       105.436113\n",
       "4      255            1  0.001164     0.122766       105.558879\n",
       "..     ...          ...       ...          ...              ...\n",
       "247    498           51  0.014384     6.415138       452.410916\n",
       "248    499           51  0.013380     6.053426       458.464341\n",
       "249    500           51 -0.001299    -0.595765       457.868576\n",
       "250    501           52 -0.036433     0.000000       457.868576\n",
       "251    502           52  0.008753     0.000000       457.868576\n",
       "\n",
       "[252 rows x 5 columns]"
      ]
     },
     "execution_count": 7,
     "metadata": {},
     "output_type": "execute_result"
    }
   ],
   "source": [
    "# find green weeks\n",
    "green_weeks = new_19.loc[new_19[\"label\"] == \"green\", \"Week_Number\"].tolist()\n",
    "\n",
    "# apply new labels as strategy\n",
    "new_trade_19 = trade_18_19.loc[(trade_18_19[\"Year\"] == 2019), (\"Week_Number\", \"Return\")].reset_index()\n",
    "invest = 100\n",
    "\n",
    "# import stategy implementation function from flie\n",
    "new_balance_19 = profit_loss_balance(new_trade_19, invest, green_weeks)\n",
    "new_balance_19"
   ]
  },
  {
   "cell_type": "code",
   "execution_count": 8,
   "metadata": {},
   "outputs": [
    {
     "name": "stdout",
     "output_type": "stream",
     "text": [
      "The final balance of the linear equation strategy is 457.87\n",
      "The final balance of the original manual-label strategy is 691.16\n"
     ]
    }
   ],
   "source": [
    "# figure out the final balance\n",
    "new_final_balance = final_balance(new_balance_19)\n",
    "# new_final_balance = new_balance_19.loc[new_balance_19.index[-1], \"Account Balance\"]\n",
    "print(f\"The final balance of the linear equation strategy is {new_final_balance}\")\n",
    "\n",
    "old_final_balance = final_balance(trade_18_19)\n",
    "print(f\"The final balance of the original manual-label strategy is {old_final_balance}\")"
   ]
  },
  {
   "cell_type": "markdown",
   "metadata": {},
   "source": [
    "#### From the label plotting of 2018, I found two green points close to 0 mean return and calculate a linear equation y=29.92x-5.93. With the implementation of new strategy y=29.92x-5.93, weeks in 2019 were re-labeled and traded with the new label. The final balance of the new strategy is 457.87. It earns money even though it does not earn as much as the original manual-label strategy. "
   ]
  },
  {
   "cell_type": "code",
   "execution_count": null,
   "metadata": {},
   "outputs": [],
   "source": []
  }
 ],
 "metadata": {
  "kernelspec": {
   "display_name": "Python 3",
   "language": "python",
   "name": "python3"
  },
  "language_info": {
   "codemirror_mode": {
    "name": "ipython",
    "version": 3
   },
   "file_extension": ".py",
   "mimetype": "text/x-python",
   "name": "python",
   "nbconvert_exporter": "python",
   "pygments_lexer": "ipython3",
   "version": "3.7.6"
  }
 },
 "nbformat": 4,
 "nbformat_minor": 4
}
