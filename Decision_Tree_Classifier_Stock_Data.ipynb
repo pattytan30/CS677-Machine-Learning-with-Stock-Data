{
 "cells": [
  {
   "cell_type": "code",
   "execution_count": 1,
   "metadata": {},
   "outputs": [],
   "source": [
    "import pandas as pd\n",
    "import numpy as np\n",
    "from sklearn import tree\n",
    "from sklearn.metrics import accuracy_score, confusion_matrix\n",
    "from strategy_implementation import *\n",
    "\n",
    "df = pd.read_csv(\"TSLA_weekly_return_volatility.csv\")\n",
    "df_18 = df.loc[df[\"Year\"] == 2018].reset_index()\n",
    "df_19 = df.loc[df[\"Year\"] == 2019].reset_index()"
   ]
  },
  {
   "cell_type": "markdown",
   "metadata": {},
   "source": [
    "### 1. Implement a decision tree and compute its accuracy"
   ]
  },
  {
   "cell_type": "code",
   "execution_count": 2,
   "metadata": {},
   "outputs": [
    {
     "name": "stdout",
     "output_type": "stream",
     "text": [
      "The accuracy of implementing the decision tree for 2019 is 0.94\n"
     ]
    }
   ],
   "source": [
    "# define the model -- decision tree classifier\n",
    "X_train = df_18[[\"mean_return\", \"volatility\"]].values\n",
    "Y_train = df_18[\"label\"].values\n",
    "X_test = df_19[[\"mean_return\", \"volatility\"]].values\n",
    "Y_test = df_19[\"label\"].values\n",
    "tree_classifier = tree.DecisionTreeClassifier(criterion=\"entropy\", random_state = 0).fit(X_train, Y_train)\n",
    "prediction = tree_classifier.predict(X_test)\n",
    "\n",
    "# accuracy \n",
    "acc = accuracy_score(Y_test, prediction)\n",
    "print(\"The accuracy of implementing the decision tree for 2019 is\", round(acc,2))"
   ]
  },
  {
   "cell_type": "markdown",
   "metadata": {},
   "source": [
    "### 2. Confusion matrix"
   ]
  },
  {
   "cell_type": "code",
   "execution_count": 3,
   "metadata": {},
   "outputs": [
    {
     "name": "stdout",
     "output_type": "stream",
     "text": [
      "The confusion matrix for 2019: \n",
      " [[23  1]\n",
      " [ 2 27]]\n"
     ]
    }
   ],
   "source": [
    "cf_matrix = confusion_matrix(Y_test, prediction)\n",
    "print(\"The confusion matrix for 2019: \\n\", cf_matrix)"
   ]
  },
  {
   "cell_type": "markdown",
   "metadata": {},
   "source": [
    "### 3. True positive rate and true negative rate"
   ]
  },
  {
   "cell_type": "code",
   "execution_count": 4,
   "metadata": {},
   "outputs": [
    {
     "name": "stdout",
     "output_type": "stream",
     "text": [
      "The true positive rate is 0.96 and the true negative rate is 0.92.\n"
     ]
    }
   ],
   "source": [
    "true_positive_rate = cf_matrix[1][1] / (cf_matrix[0][1] + cf_matrix[1][1])\n",
    "true_negative_rate = cf_matrix[0][0] / (cf_matrix[0][0] + cf_matrix[1][0])\n",
    "print(f\"The true positive rate is {round(true_positive_rate, 2)} \\\n",
    "and the true negative rate is {round(true_negative_rate, 2)}.\")"
   ]
  },
  {
   "cell_type": "markdown",
   "metadata": {},
   "source": [
    "### 4. Implement a trading strategy"
   ]
  },
  {
   "cell_type": "code",
   "execution_count": 5,
   "metadata": {},
   "outputs": [
    {
     "name": "stdout",
     "output_type": "stream",
     "text": [
      "The final value of balance with strategy implementation is 464.5\n"
     ]
    }
   ],
   "source": [
    "df_trade = pd.read_csv(\"Trade_18_19.csv\")\n",
    "df_trade_19 = df_trade.loc[df_trade[\"Year\"] == 2019].reset_index()\n",
    "invest = 100\n",
    "\n",
    "# decision tree\n",
    "green_week_index = green_week(prediction)\n",
    "df_implement = profit_loss_balance(df_trade_19, invest, green_week_index)\n",
    "DT_final_value = final_balance(df_implement)\n",
    "print(\"The final value of balance with strategy implementation is\", DT_final_value)"
   ]
  },
  {
   "cell_type": "code",
   "execution_count": 6,
   "metadata": {},
   "outputs": [
    {
     "name": "stdout",
     "output_type": "stream",
     "text": [
      "The final value of balance with the label strategy is 456.7\n"
     ]
    }
   ],
   "source": [
    "# original label \n",
    "green_week_orginal = Y_test.tolist()\n",
    "green_week_original_index = green_week(green_week_orginal)\n",
    "df_original = profit_loss_balance(df_trade_19, invest, green_week_original_index)\n",
    "original_final_value = final_balance(df_original)\n",
    "print(\"The final value of balance with the label strategy is\", original_final_value)"
   ]
  },
  {
   "cell_type": "code",
   "execution_count": 7,
   "metadata": {},
   "outputs": [
    {
     "name": "stdout",
     "output_type": "stream",
     "text": [
      "The final value of balance with the buy-and-hold strategy is 134.89\n"
     ]
    }
   ],
   "source": [
    "# buy-and-hold strategy\n",
    "adj_close = df_trade_19[\"Adj Close\"].values\n",
    "buy_in_price = adj_close[0]\n",
    "close_price = adj_close[-1]\n",
    "buy_hold_final_value = buy_hold(invest, buy_in_price, close_price)\n",
    "print(\"The final value of balance with the buy-and-hold strategy is\", buy_hold_final_value)"
   ]
  },
  {
   "cell_type": "markdown",
   "metadata": {},
   "source": [
    "The decition tree strategy implementation results in a extremely close or even higher final value than the original label one."
   ]
  },
  {
   "cell_type": "code",
   "execution_count": null,
   "metadata": {},
   "outputs": [],
   "source": []
  }
 ],
 "metadata": {
  "kernelspec": {
   "display_name": "Python 3",
   "language": "python",
   "name": "python3"
  },
  "language_info": {
   "codemirror_mode": {
    "name": "ipython",
    "version": 3
   },
   "file_extension": ".py",
   "mimetype": "text/x-python",
   "name": "python",
   "nbconvert_exporter": "python",
   "pygments_lexer": "ipython3",
   "version": "3.7.6"
  }
 },
 "nbformat": 4,
 "nbformat_minor": 4
}
