{
 "cells": [
  {
   "cell_type": "markdown",
   "metadata": {},
   "source": [
    "## 3.1-3.2 What are the most and the least frequent \"cent\" digits for the opening price?"
   ]
  },
  {
   "cell_type": "code",
   "execution_count": 1,
   "metadata": {},
   "outputs": [
    {
     "data": {
      "text/plain": [
       "<matplotlib.axes._subplots.AxesSubplot at 0x1212ae7d0>"
      ]
     },
     "execution_count": 1,
     "metadata": {},
     "output_type": "execute_result"
    },
    {
     "data": {
      "image/png": "[encoded data removed]",
      "text/plain": [
       "<Figure size 432x288 with 1 Axes>"
      ]
     },
     "metadata": {
      "needs_background": "light"
     },
     "output_type": "display_data"
    }
   ],
   "source": [
    "import pandas as pd\n",
    "\n",
    "df = pd.read_csv(\"TSLA.csv\")\n",
    "df[\"Open\"] = df[\"Open\"].multiply(other = 100)\n",
    "df[\"Open\"] = df[\"Open\"].astype(int).astype(str)\n",
    "df[\"Last digit\"] = df[\"Open\"].apply(lambda x: x[-1])\n",
    "count_digit = df[\"Last digit\"].value_counts(normalize=True)\n",
    "count_digit.plot.bar(rot=0)"
   ]
  },
  {
   "cell_type": "markdown",
   "metadata": {},
   "source": [
    "#### With five-year data, the result shows that digits are not displayed equally. The most frequent digit is 0 taken 26% of total ten digits, while the least frequent digit is 3 with only 6%."
   ]
  },
  {
   "cell_type": "markdown",
   "metadata": {},
   "source": [
    "## 3.3 Compute 4 error metrics"
   ]
  },
  {
   "cell_type": "code",
   "execution_count": 2,
   "metadata": {},
   "outputs": [
    {
     "data": {
      "text/html": [
       "<div>\n",
       "<style scoped>\n",
       "    .dataframe tbody tr th:only-of-type {\n",
       "        vertical-align: middle;\n",
       "    }\n",
       "\n",
       "    .dataframe tbody tr th {\n",
       "        vertical-align: top;\n",
       "    }\n",
       "\n",
       "    .dataframe thead th {\n",
       "        text-align: right;\n",
       "    }\n",
       "</style>\n",
       "<table border=\"1\" class=\"dataframe\">\n",
       "  <thead>\n",
       "    <tr style=\"text-align: right;\">\n",
       "      <th>Last digit</th>\n",
       "      <th>0</th>\n",
       "      <th>1</th>\n",
       "      <th>2</th>\n",
       "      <th>3</th>\n",
       "      <th>4</th>\n",
       "      <th>5</th>\n",
       "      <th>6</th>\n",
       "      <th>7</th>\n",
       "      <th>8</th>\n",
       "      <th>9</th>\n",
       "    </tr>\n",
       "    <tr>\n",
       "      <th>Year</th>\n",
       "      <th></th>\n",
       "      <th></th>\n",
       "      <th></th>\n",
       "      <th></th>\n",
       "      <th></th>\n",
       "      <th></th>\n",
       "      <th></th>\n",
       "      <th></th>\n",
       "      <th></th>\n",
       "      <th></th>\n",
       "    </tr>\n",
       "  </thead>\n",
       "  <tbody>\n",
       "    <tr>\n",
       "      <th>2014</th>\n",
       "      <td>0.218254</td>\n",
       "      <td>0.091270</td>\n",
       "      <td>0.099206</td>\n",
       "      <td>0.039683</td>\n",
       "      <td>0.063492</td>\n",
       "      <td>0.146825</td>\n",
       "      <td>0.083333</td>\n",
       "      <td>0.075397</td>\n",
       "      <td>0.075397</td>\n",
       "      <td>0.107143</td>\n",
       "    </tr>\n",
       "    <tr>\n",
       "      <th>2015</th>\n",
       "      <td>0.226190</td>\n",
       "      <td>0.075397</td>\n",
       "      <td>0.075397</td>\n",
       "      <td>0.075397</td>\n",
       "      <td>0.071429</td>\n",
       "      <td>0.138889</td>\n",
       "      <td>0.083333</td>\n",
       "      <td>0.063492</td>\n",
       "      <td>0.091270</td>\n",
       "      <td>0.099206</td>\n",
       "    </tr>\n",
       "    <tr>\n",
       "      <th>2016</th>\n",
       "      <td>0.257937</td>\n",
       "      <td>0.079365</td>\n",
       "      <td>0.087302</td>\n",
       "      <td>0.039683</td>\n",
       "      <td>0.083333</td>\n",
       "      <td>0.142857</td>\n",
       "      <td>0.063492</td>\n",
       "      <td>0.067460</td>\n",
       "      <td>0.063492</td>\n",
       "      <td>0.115079</td>\n",
       "    </tr>\n",
       "    <tr>\n",
       "      <th>2017</th>\n",
       "      <td>0.290837</td>\n",
       "      <td>0.075697</td>\n",
       "      <td>0.059761</td>\n",
       "      <td>0.083665</td>\n",
       "      <td>0.063745</td>\n",
       "      <td>0.103586</td>\n",
       "      <td>0.063745</td>\n",
       "      <td>0.051793</td>\n",
       "      <td>0.079681</td>\n",
       "      <td>0.127490</td>\n",
       "    </tr>\n",
       "    <tr>\n",
       "      <th>2018</th>\n",
       "      <td>0.258964</td>\n",
       "      <td>0.091633</td>\n",
       "      <td>0.047809</td>\n",
       "      <td>0.099602</td>\n",
       "      <td>0.095618</td>\n",
       "      <td>0.103586</td>\n",
       "      <td>0.079681</td>\n",
       "      <td>0.091633</td>\n",
       "      <td>0.039841</td>\n",
       "      <td>0.091633</td>\n",
       "    </tr>\n",
       "    <tr>\n",
       "      <th>2019</th>\n",
       "      <td>0.301587</td>\n",
       "      <td>0.083333</td>\n",
       "      <td>0.119048</td>\n",
       "      <td>0.031746</td>\n",
       "      <td>0.063492</td>\n",
       "      <td>0.115079</td>\n",
       "      <td>0.071429</td>\n",
       "      <td>0.043651</td>\n",
       "      <td>0.063492</td>\n",
       "      <td>0.107143</td>\n",
       "    </tr>\n",
       "  </tbody>\n",
       "</table>\n",
       "</div>"
      ],
      "text/plain": [
       "Last digit         0         1         2         3         4         5  \\\n",
       "Year                                                                     \n",
       "2014        0.218254  0.091270  0.099206  0.039683  0.063492  0.146825   \n",
       "2015        0.226190  0.075397  0.075397  0.075397  0.071429  0.138889   \n",
       "2016        0.257937  0.079365  0.087302  0.039683  0.083333  0.142857   \n",
       "2017        0.290837  0.075697  0.059761  0.083665  0.063745  0.103586   \n",
       "2018        0.258964  0.091633  0.047809  0.099602  0.095618  0.103586   \n",
       "2019        0.301587  0.083333  0.119048  0.031746  0.063492  0.115079   \n",
       "\n",
       "Last digit         6         7         8         9  \n",
       "Year                                                \n",
       "2014        0.083333  0.075397  0.075397  0.107143  \n",
       "2015        0.083333  0.063492  0.091270  0.099206  \n",
       "2016        0.063492  0.067460  0.063492  0.115079  \n",
       "2017        0.063745  0.051793  0.079681  0.127490  \n",
       "2018        0.079681  0.091633  0.039841  0.091633  \n",
       "2019        0.071429  0.043651  0.063492  0.107143  "
      ]
     },
     "execution_count": 2,
     "metadata": {},
     "output_type": "execute_result"
    }
   ],
   "source": [
    "df.groupby([\"Year\", \"Last digit\"]).count()\n",
    "grouped_df_ct = pd.crosstab(df['Year'],df['Last digit'], normalize='index')\n",
    "grouped_df_ct\n"
   ]
  },
  {
   "cell_type": "markdown",
   "metadata": {},
   "source": [
    "#### In detail, with the percentage of digits displayed each year, 0 is still the most frequent one."
   ]
  },
  {
   "cell_type": "code",
   "execution_count": 3,
   "metadata": {},
   "outputs": [
    {
     "data": {
      "text/html": [
       "<div>\n",
       "<style scoped>\n",
       "    .dataframe tbody tr th:only-of-type {\n",
       "        vertical-align: middle;\n",
       "    }\n",
       "\n",
       "    .dataframe tbody tr th {\n",
       "        vertical-align: top;\n",
       "    }\n",
       "\n",
       "    .dataframe thead th {\n",
       "        text-align: right;\n",
       "    }\n",
       "</style>\n",
       "<table border=\"1\" class=\"dataframe\">\n",
       "  <thead>\n",
       "    <tr style=\"text-align: right;\">\n",
       "      <th></th>\n",
       "      <th>max absolute error</th>\n",
       "      <th>median absolute error</th>\n",
       "      <th>mean absolute error</th>\n",
       "      <th>root mean square error</th>\n",
       "    </tr>\n",
       "    <tr>\n",
       "      <th>Year</th>\n",
       "      <th></th>\n",
       "      <th></th>\n",
       "      <th></th>\n",
       "      <th></th>\n",
       "    </tr>\n",
       "  </thead>\n",
       "  <tbody>\n",
       "    <tr>\n",
       "      <th>2014</th>\n",
       "      <td>0.118254</td>\n",
       "      <td>0.024603</td>\n",
       "      <td>0.034444</td>\n",
       "      <td>0.047712</td>\n",
       "    </tr>\n",
       "    <tr>\n",
       "      <th>2015</th>\n",
       "      <td>0.126190</td>\n",
       "      <td>0.024603</td>\n",
       "      <td>0.033016</td>\n",
       "      <td>0.046643</td>\n",
       "    </tr>\n",
       "    <tr>\n",
       "      <th>2016</th>\n",
       "      <td>0.157937</td>\n",
       "      <td>0.034524</td>\n",
       "      <td>0.043175</td>\n",
       "      <td>0.059360</td>\n",
       "    </tr>\n",
       "    <tr>\n",
       "      <th>2017</th>\n",
       "      <td>0.190837</td>\n",
       "      <td>0.031873</td>\n",
       "      <td>0.044382</td>\n",
       "      <td>0.067104</td>\n",
       "    </tr>\n",
       "    <tr>\n",
       "      <th>2018</th>\n",
       "      <td>0.158964</td>\n",
       "      <td>0.008367</td>\n",
       "      <td>0.032510</td>\n",
       "      <td>0.056805</td>\n",
       "    </tr>\n",
       "    <tr>\n",
       "      <th>2019</th>\n",
       "      <td>0.201587</td>\n",
       "      <td>0.032540</td>\n",
       "      <td>0.048571</td>\n",
       "      <td>0.072713</td>\n",
       "    </tr>\n",
       "  </tbody>\n",
       "</table>\n",
       "</div>"
      ],
      "text/plain": [
       "      max absolute error  median absolute error  mean absolute error  \\\n",
       "Year                                                                   \n",
       "2014            0.118254               0.024603             0.034444   \n",
       "2015            0.126190               0.024603             0.033016   \n",
       "2016            0.157937               0.034524             0.043175   \n",
       "2017            0.190837               0.031873             0.044382   \n",
       "2018            0.158964               0.008367             0.032510   \n",
       "2019            0.201587               0.032540             0.048571   \n",
       "\n",
       "      root mean square error  \n",
       "Year                          \n",
       "2014                0.047712  \n",
       "2015                0.046643  \n",
       "2016                0.059360  \n",
       "2017                0.067104  \n",
       "2018                0.056805  \n",
       "2019                0.072713  "
      ]
     },
     "execution_count": 3,
     "metadata": {},
     "output_type": "execute_result"
    }
   ],
   "source": [
    "perdiction = 0.1 #equal proportion\n",
    "absolute_error = grouped_df_ct.apply(lambda x : x - perdiction, axis = 1).abs()\n",
    "df_error = pd.DataFrame(columns = (\"max absolute error\",\"median absolute error\",\"mean absolute error\",\"root mean square error\"))\n",
    "df_error[\"max absolute error\"] = absolute_error.max(axis = 1)\n",
    "df_error[\"median absolute error\"] = absolute_error.median(axis = 1)\n",
    "df_error[\"mean absolute error\"] = absolute_error.mean(axis = 1)\n",
    "df_error[\"root mean square error\"] = absolute_error.agg(lambda x : (x ** 2).mean() ** 0.5, axis = 1)\n",
    "df_error\n"
   ]
  },
  {
   "cell_type": "markdown",
   "metadata": {},
   "source": [
    "#### Checking the MAE year by year, the max value was 0.20 in 2019. As errors are squared before average, RMSE gives a relatively high weight to large errors (actual value which is far from the perdiction) compared with MAE. With that said, RMSE probably easier to detect outliers. The average distance between actual values and predicted values in 2019 was the largest and followed by 2017. "
   ]
  },
  {
   "cell_type": "code",
   "execution_count": null,
   "metadata": {},
   "outputs": [],
   "source": []
  }
 ],
 "metadata": {
  "kernelspec": {
   "display_name": "Python 3",
   "language": "python",
   "name": "python3"
  },
  "language_info": {
   "codemirror_mode": {
    "name": "ipython",
    "version": 3
   },
   "file_extension": ".py",
   "mimetype": "text/x-python",
   "name": "python",
   "nbconvert_exporter": "python",
   "pygments_lexer": "ipython3",
   "version": "3.7.6"
  }
 },
 "nbformat": 4,
 "nbformat_minor": 4
}
