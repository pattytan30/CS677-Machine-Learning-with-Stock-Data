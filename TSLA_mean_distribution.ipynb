{
 "cells": [
  {
   "cell_type": "markdown",
   "metadata": {},
   "source": [
    "## 2.1 Compute the number of days with positive and negative returns."
   ]
  },
  {
   "cell_type": "code",
   "execution_count": 1,
   "metadata": {},
   "outputs": [
    {
     "data": {
      "text/html": [
       "<div>\n",
       "<style scoped>\n",
       "    .dataframe tbody tr th:only-of-type {\n",
       "        vertical-align: middle;\n",
       "    }\n",
       "\n",
       "    .dataframe tbody tr th {\n",
       "        vertical-align: top;\n",
       "    }\n",
       "\n",
       "    .dataframe thead th {\n",
       "        text-align: right;\n",
       "    }\n",
       "</style>\n",
       "<table border=\"1\" class=\"dataframe\">\n",
       "  <thead>\n",
       "    <tr style=\"text-align: right;\">\n",
       "      <th></th>\n",
       "      <th>0</th>\n",
       "      <th>1</th>\n",
       "    </tr>\n",
       "    <tr>\n",
       "      <th>Year</th>\n",
       "      <th></th>\n",
       "      <th></th>\n",
       "    </tr>\n",
       "  </thead>\n",
       "  <tbody>\n",
       "    <tr>\n",
       "      <th>2014</th>\n",
       "      <td>123</td>\n",
       "      <td>129</td>\n",
       "    </tr>\n",
       "    <tr>\n",
       "      <th>2015</th>\n",
       "      <td>126</td>\n",
       "      <td>126</td>\n",
       "    </tr>\n",
       "    <tr>\n",
       "      <th>2016</th>\n",
       "      <td>126</td>\n",
       "      <td>126</td>\n",
       "    </tr>\n",
       "    <tr>\n",
       "      <th>2017</th>\n",
       "      <td>117</td>\n",
       "      <td>134</td>\n",
       "    </tr>\n",
       "    <tr>\n",
       "      <th>2018</th>\n",
       "      <td>133</td>\n",
       "      <td>118</td>\n",
       "    </tr>\n",
       "    <tr>\n",
       "      <th>2019</th>\n",
       "      <td>120</td>\n",
       "      <td>132</td>\n",
       "    </tr>\n",
       "  </tbody>\n",
       "</table>\n",
       "</div>"
      ],
      "text/plain": [
       "        0    1\n",
       "Year          \n",
       "2014  123  129\n",
       "2015  126  126\n",
       "2016  126  126\n",
       "2017  117  134\n",
       "2018  133  118\n",
       "2019  120  132"
      ]
     },
     "execution_count": 1,
     "metadata": {},
     "output_type": "execute_result"
    }
   ],
   "source": [
    "import pandas as pd\n",
    "import numpy as np\n",
    "df = pd.read_csv(\"TSLA.csv\")\n",
    "df_count = df.groupby([\"Year\"])[\"Return\"].apply(lambda x: pd.Series([(x < 0).sum(), (x >= 0).sum()])).unstack()\n",
    "df_count"
   ]
  },
  {
   "cell_type": "markdown",
   "metadata": {},
   "source": [
    "#### According to the table above, there were 123 negative returns and 129 positive returns in 2014, 126 both negative and positive returns in 2015 and 2016, 117 negative returns and 134 positive returns in 2017, 133 negative and 118 positive returns in 2018, and 120 negative returns and 132 positive returns in 2019. "
   ]
  },
  {
   "cell_type": "markdown",
   "metadata": {},
   "source": [
    "## 2.2 Compute the average of daily returns "
   ]
  },
  {
   "cell_type": "code",
   "execution_count": 2,
   "metadata": {},
   "outputs": [
    {
     "data": {
      "text/html": [
       "<style  type=\"text/css\" >\n",
       "</style><table id=\"T_7f4bf3d2_a695_11ea_a5ea_acde48001122\" ><thead>    <tr>        <th class=\"blank level0\" ></th>        <th class=\"col_heading level0 col0\" >Trading days</th>        <th class=\"col_heading level0 col1\" >Mean</th>        <th class=\"col_heading level0 col2\" >% days < Mean</th>        <th class=\"col_heading level0 col3\" >% days >= Mean</th>    </tr>    <tr>        <th class=\"index_name level0\" >Year</th>        <th class=\"blank\" ></th>        <th class=\"blank\" ></th>        <th class=\"blank\" ></th>        <th class=\"blank\" ></th>    </tr></thead><tbody>\n",
       "                <tr>\n",
       "                        <th id=\"T_7f4bf3d2_a695_11ea_a5ea_acde48001122level0_row0\" class=\"row_heading level0 row0\" >2014</th>\n",
       "                        <td id=\"T_7f4bf3d2_a695_11ea_a5ea_acde48001122row0_col0\" class=\"data row0 col0\" >252</td>\n",
       "                        <td id=\"T_7f4bf3d2_a695_11ea_a5ea_acde48001122row0_col1\" class=\"data row0 col1\" >0.002016</td>\n",
       "                        <td id=\"T_7f4bf3d2_a695_11ea_a5ea_acde48001122row0_col2\" class=\"data row0 col2\" >53.57%</td>\n",
       "                        <td id=\"T_7f4bf3d2_a695_11ea_a5ea_acde48001122row0_col3\" class=\"data row0 col3\" >46.43%</td>\n",
       "            </tr>\n",
       "            <tr>\n",
       "                        <th id=\"T_7f4bf3d2_a695_11ea_a5ea_acde48001122level0_row1\" class=\"row_heading level0 row1\" >2015</th>\n",
       "                        <td id=\"T_7f4bf3d2_a695_11ea_a5ea_acde48001122row1_col0\" class=\"data row1 col0\" >252</td>\n",
       "                        <td id=\"T_7f4bf3d2_a695_11ea_a5ea_acde48001122row1_col1\" class=\"data row1 col1\" >0.000600</td>\n",
       "                        <td id=\"T_7f4bf3d2_a695_11ea_a5ea_acde48001122row1_col2\" class=\"data row1 col2\" >51.59%</td>\n",
       "                        <td id=\"T_7f4bf3d2_a695_11ea_a5ea_acde48001122row1_col3\" class=\"data row1 col3\" >48.41%</td>\n",
       "            </tr>\n",
       "            <tr>\n",
       "                        <th id=\"T_7f4bf3d2_a695_11ea_a5ea_acde48001122level0_row2\" class=\"row_heading level0 row2\" >2016</th>\n",
       "                        <td id=\"T_7f4bf3d2_a695_11ea_a5ea_acde48001122row2_col0\" class=\"data row2 col0\" >252</td>\n",
       "                        <td id=\"T_7f4bf3d2_a695_11ea_a5ea_acde48001122row2_col1\" class=\"data row2 col1\" >-0.000161</td>\n",
       "                        <td id=\"T_7f4bf3d2_a695_11ea_a5ea_acde48001122row2_col2\" class=\"data row2 col2\" >49.60%</td>\n",
       "                        <td id=\"T_7f4bf3d2_a695_11ea_a5ea_acde48001122row2_col3\" class=\"data row2 col3\" >50.40%</td>\n",
       "            </tr>\n",
       "            <tr>\n",
       "                        <th id=\"T_7f4bf3d2_a695_11ea_a5ea_acde48001122level0_row3\" class=\"row_heading level0 row3\" >2017</th>\n",
       "                        <td id=\"T_7f4bf3d2_a695_11ea_a5ea_acde48001122row3_col0\" class=\"data row3 col0\" >251</td>\n",
       "                        <td id=\"T_7f4bf3d2_a695_11ea_a5ea_acde48001122row3_col1\" class=\"data row3 col1\" >0.001748</td>\n",
       "                        <td id=\"T_7f4bf3d2_a695_11ea_a5ea_acde48001122row3_col2\" class=\"data row3 col2\" >52.19%</td>\n",
       "                        <td id=\"T_7f4bf3d2_a695_11ea_a5ea_acde48001122row3_col3\" class=\"data row3 col3\" >47.81%</td>\n",
       "            </tr>\n",
       "            <tr>\n",
       "                        <th id=\"T_7f4bf3d2_a695_11ea_a5ea_acde48001122level0_row4\" class=\"row_heading level0 row4\" >2018</th>\n",
       "                        <td id=\"T_7f4bf3d2_a695_11ea_a5ea_acde48001122row4_col0\" class=\"data row4 col0\" >251</td>\n",
       "                        <td id=\"T_7f4bf3d2_a695_11ea_a5ea_acde48001122row4_col1\" class=\"data row4 col1\" >0.000932</td>\n",
       "                        <td id=\"T_7f4bf3d2_a695_11ea_a5ea_acde48001122row4_col2\" class=\"data row4 col2\" >53.78%</td>\n",
       "                        <td id=\"T_7f4bf3d2_a695_11ea_a5ea_acde48001122row4_col3\" class=\"data row4 col3\" >46.22%</td>\n",
       "            </tr>\n",
       "            <tr>\n",
       "                        <th id=\"T_7f4bf3d2_a695_11ea_a5ea_acde48001122level0_row5\" class=\"row_heading level0 row5\" >2019</th>\n",
       "                        <td id=\"T_7f4bf3d2_a695_11ea_a5ea_acde48001122row5_col0\" class=\"data row5 col0\" >252</td>\n",
       "                        <td id=\"T_7f4bf3d2_a695_11ea_a5ea_acde48001122row5_col1\" class=\"data row5 col1\" >0.001391</td>\n",
       "                        <td id=\"T_7f4bf3d2_a695_11ea_a5ea_acde48001122row5_col2\" class=\"data row5 col2\" >49.21%</td>\n",
       "                        <td id=\"T_7f4bf3d2_a695_11ea_a5ea_acde48001122row5_col3\" class=\"data row5 col3\" >50.79%</td>\n",
       "            </tr>\n",
       "    </tbody></table>"
      ],
      "text/plain": [
       "<pandas.io.formats.style.Styler at 0x11f498390>"
      ]
     },
     "execution_count": 2,
     "metadata": {},
     "output_type": "execute_result"
    }
   ],
   "source": [
    "df_m = pd.DataFrame(columns= ( \"Trading days\", \"Mean\", \"% days < Mean\", \"% days >= Mean\"))\n",
    "df_m[\"Trading days\"] = df.groupby([\"Year\"])[\"Year\"].count()\n",
    "df_m[\"Mean\"] = df.groupby([\"Year\"])[\"Return\"].mean()\n",
    "less_mean = df.groupby([\"Year\"])[\"Return\"].agg(lambda x: pd.Series([(x < x.mean()).sum()])).astype(int)\n",
    "larger_mean = df.groupby([\"Year\"])[\"Return\"].agg(lambda x: pd.Series([(x > x.mean()).sum()])).astype(int)\n",
    "df_m[\"% days < Mean\"] = less_mean / df_m[\"Trading days\"]\n",
    "df_m[\"% days >= Mean\"] = larger_mean / df_m[\"Trading days\"]\n",
    "df_m.style.format({\"% days < Mean\": \"{:.2%}\", \"% days >= Mean\": \"{:.2%}\"})"
   ]
  },
  {
   "cell_type": "markdown",
   "metadata": {},
   "source": [
    "#### Based on the table, the percentages of days above or below mean are around 50%."
   ]
  },
  {
   "cell_type": "markdown",
   "metadata": {},
   "source": [
    "## 2.3 Compute the number of days that returns are more than 2 standard deviations from the mean."
   ]
  },
  {
   "cell_type": "code",
   "execution_count": 7,
   "metadata": {},
   "outputs": [
    {
     "data": {
      "text/html": [
       "<style  type=\"text/css\" >\n",
       "</style><table id=\"T_1c2a269a_a69d_11ea_a5ea_acde48001122\" ><thead>    <tr>        <th class=\"blank level0\" ></th>        <th class=\"col_heading level0 col0\" >Trading days</th>        <th class=\"col_heading level0 col1\" >Mean(m)</th>        <th class=\"col_heading level0 col2\" >Standard Deviation(d)</th>        <th class=\"col_heading level0 col3\" >% days < m-2d</th>        <th class=\"col_heading level0 col4\" >% days > m+2d</th>    </tr>    <tr>        <th class=\"index_name level0\" >Year</th>        <th class=\"blank\" ></th>        <th class=\"blank\" ></th>        <th class=\"blank\" ></th>        <th class=\"blank\" ></th>        <th class=\"blank\" ></th>    </tr></thead><tbody>\n",
       "                <tr>\n",
       "                        <th id=\"T_1c2a269a_a69d_11ea_a5ea_acde48001122level0_row0\" class=\"row_heading level0 row0\" >2014</th>\n",
       "                        <td id=\"T_1c2a269a_a69d_11ea_a5ea_acde48001122row0_col0\" class=\"data row0 col0\" >252</td>\n",
       "                        <td id=\"T_1c2a269a_a69d_11ea_a5ea_acde48001122row0_col1\" class=\"data row0 col1\" >0.002016</td>\n",
       "                        <td id=\"T_1c2a269a_a69d_11ea_a5ea_acde48001122row0_col2\" class=\"data row0 col2\" >0.030437</td>\n",
       "                        <td id=\"T_1c2a269a_a69d_11ea_a5ea_acde48001122row0_col3\" class=\"data row0 col3\" >1.19%</td>\n",
       "                        <td id=\"T_1c2a269a_a69d_11ea_a5ea_acde48001122row0_col4\" class=\"data row0 col4\" >2.38%</td>\n",
       "            </tr>\n",
       "            <tr>\n",
       "                        <th id=\"T_1c2a269a_a69d_11ea_a5ea_acde48001122level0_row1\" class=\"row_heading level0 row1\" >2015</th>\n",
       "                        <td id=\"T_1c2a269a_a69d_11ea_a5ea_acde48001122row1_col0\" class=\"data row1 col0\" >252</td>\n",
       "                        <td id=\"T_1c2a269a_a69d_11ea_a5ea_acde48001122row1_col1\" class=\"data row1 col1\" >0.000600</td>\n",
       "                        <td id=\"T_1c2a269a_a69d_11ea_a5ea_acde48001122row1_col2\" class=\"data row1 col2\" >0.024470</td>\n",
       "                        <td id=\"T_1c2a269a_a69d_11ea_a5ea_acde48001122row1_col3\" class=\"data row1 col3\" >2.38%</td>\n",
       "                        <td id=\"T_1c2a269a_a69d_11ea_a5ea_acde48001122row1_col4\" class=\"data row1 col4\" >2.38%</td>\n",
       "            </tr>\n",
       "            <tr>\n",
       "                        <th id=\"T_1c2a269a_a69d_11ea_a5ea_acde48001122level0_row2\" class=\"row_heading level0 row2\" >2016</th>\n",
       "                        <td id=\"T_1c2a269a_a69d_11ea_a5ea_acde48001122row2_col0\" class=\"data row2 col0\" >252</td>\n",
       "                        <td id=\"T_1c2a269a_a69d_11ea_a5ea_acde48001122row2_col1\" class=\"data row2 col1\" >-0.000161</td>\n",
       "                        <td id=\"T_1c2a269a_a69d_11ea_a5ea_acde48001122row2_col2\" class=\"data row2 col2\" >0.024418</td>\n",
       "                        <td id=\"T_1c2a269a_a69d_11ea_a5ea_acde48001122row2_col3\" class=\"data row2 col3\" >3.57%</td>\n",
       "                        <td id=\"T_1c2a269a_a69d_11ea_a5ea_acde48001122row2_col4\" class=\"data row2 col4\" >1.19%</td>\n",
       "            </tr>\n",
       "            <tr>\n",
       "                        <th id=\"T_1c2a269a_a69d_11ea_a5ea_acde48001122level0_row3\" class=\"row_heading level0 row3\" >2017</th>\n",
       "                        <td id=\"T_1c2a269a_a69d_11ea_a5ea_acde48001122row3_col0\" class=\"data row3 col0\" >251</td>\n",
       "                        <td id=\"T_1c2a269a_a69d_11ea_a5ea_acde48001122row3_col1\" class=\"data row3 col1\" >0.001748</td>\n",
       "                        <td id=\"T_1c2a269a_a69d_11ea_a5ea_acde48001122row3_col2\" class=\"data row3 col2\" >0.022266</td>\n",
       "                        <td id=\"T_1c2a269a_a69d_11ea_a5ea_acde48001122row3_col3\" class=\"data row3 col3\" >2.39%</td>\n",
       "                        <td id=\"T_1c2a269a_a69d_11ea_a5ea_acde48001122row3_col4\" class=\"data row3 col4\" >1.99%</td>\n",
       "            </tr>\n",
       "            <tr>\n",
       "                        <th id=\"T_1c2a269a_a69d_11ea_a5ea_acde48001122level0_row4\" class=\"row_heading level0 row4\" >2018</th>\n",
       "                        <td id=\"T_1c2a269a_a69d_11ea_a5ea_acde48001122row4_col0\" class=\"data row4 col0\" >251</td>\n",
       "                        <td id=\"T_1c2a269a_a69d_11ea_a5ea_acde48001122row4_col1\" class=\"data row4 col1\" >0.000932</td>\n",
       "                        <td id=\"T_1c2a269a_a69d_11ea_a5ea_acde48001122row4_col2\" class=\"data row4 col2\" >0.036892</td>\n",
       "                        <td id=\"T_1c2a269a_a69d_11ea_a5ea_acde48001122row4_col3\" class=\"data row4 col3\" >2.39%</td>\n",
       "                        <td id=\"T_1c2a269a_a69d_11ea_a5ea_acde48001122row4_col4\" class=\"data row4 col4\" >3.19%</td>\n",
       "            </tr>\n",
       "            <tr>\n",
       "                        <th id=\"T_1c2a269a_a69d_11ea_a5ea_acde48001122level0_row5\" class=\"row_heading level0 row5\" >2019</th>\n",
       "                        <td id=\"T_1c2a269a_a69d_11ea_a5ea_acde48001122row5_col0\" class=\"data row5 col0\" >252</td>\n",
       "                        <td id=\"T_1c2a269a_a69d_11ea_a5ea_acde48001122row5_col1\" class=\"data row5 col1\" >0.001391</td>\n",
       "                        <td id=\"T_1c2a269a_a69d_11ea_a5ea_acde48001122row5_col2\" class=\"data row5 col2\" >0.031069</td>\n",
       "                        <td id=\"T_1c2a269a_a69d_11ea_a5ea_acde48001122row5_col3\" class=\"data row5 col3\" >3.57%</td>\n",
       "                        <td id=\"T_1c2a269a_a69d_11ea_a5ea_acde48001122row5_col4\" class=\"data row5 col4\" >1.59%</td>\n",
       "            </tr>\n",
       "    </tbody></table>"
      ],
      "text/plain": [
       "<pandas.io.formats.style.Styler at 0x120501310>"
      ]
     },
     "execution_count": 7,
     "metadata": {},
     "output_type": "execute_result"
    }
   ],
   "source": [
    "df_new = pd.DataFrame(columns= ( \"Year\",\"Return\", \"m\", \"2d\"))\n",
    "df_new[\"Year\"] = df[\"Year\"]\n",
    "df_new[\"m\"] = df.groupby([\"Year\"])[\"Return\"].transform('mean')\n",
    "df_new[\"2d\"]= 2 * df.groupby([\"Year\"])[\"Return\"].transform(np.std)\n",
    "df_new[\"Return\"] = df[\"Return\"]\n",
    "df_new[\"m-2d\"] = df_new[\"m\"] - df_new[\"2d\"]\n",
    "df_new[\"m+2d\"] = df_new[\"m\"] + df_new[\"2d\"]\n",
    "df_new[\"R < m-2d\"] = df_new.apply(lambda x : \"T\" if x[\"Return\"] < x[\"m-2d\"] else \"\", axis=1)\n",
    "df_new[\"R > m+2d\"] = df_new.apply(lambda x : \"T\" if x[\"Return\"] > x[\"m+2d\"] else \"\", axis=1)\n",
    "\n",
    "df_m_2d = pd.DataFrame(columns= ( \"Trading days\", \"Mean(m)\", \"Standard Deviation(d)\",\"% days < m-2d\", \"% days > m+2d\"))\n",
    "df_m_2d[\"Trading days\"] = df_m[\"Trading days\"]\n",
    "df_m_2d[\"Mean(m)\"] = df_m[\"Mean\"]\n",
    "df_m_2d[\"Standard Deviation(d)\"] = df.groupby([\"Year\"])[\"Return\"].std()\n",
    "less_outlier = df_new.groupby([\"Year\"])[\"R < m-2d\"].apply(lambda x: (x == \"T\").sum()).astype(int)\n",
    "larger_outlier = df_new.groupby([\"Year\"])[\"R > m+2d\"].apply(lambda x: (x == \"T\").sum()).astype(int)\n",
    "df_m_2d[\"% days < m-2d\"] = less_outlier / df_m_2d[\"Trading days\"]\n",
    "df_m_2d[\"% days > m+2d\"] = larger_outlier / df_m_2d[\"Trading days\"]\n",
    "df_m_2d.style.format({\"% days < m-2d\": \"{:.2%}\", \"% days > m+2d\": \"{:.2%}\"})\n",
    "\n",
    "    "
   ]
  },
  {
   "cell_type": "markdown",
   "metadata": {},
   "source": [
    "#### The mean of daily returns are above 0 except the value in 2016, which implys that the overall trend of TSLA is positive and promising. For 2014, 2017 and 2018, the standard deviations are relatively higher than the other years, indicating that the daily returns are spread out over a larger range."
   ]
  },
  {
   "cell_type": "code",
   "execution_count": null,
   "metadata": {},
   "outputs": [],
   "source": []
  }
 ],
 "metadata": {
  "kernelspec": {
   "display_name": "Python 3",
   "language": "python",
   "name": "python3"
  },
  "language_info": {
   "codemirror_mode": {
    "name": "ipython",
    "version": 3
   },
   "file_extension": ".py",
   "mimetype": "text/x-python",
   "name": "python",
   "nbconvert_exporter": "python",
   "pygments_lexer": "ipython3",
   "version": "3.7.6"
  }
 },
 "nbformat": 4,
 "nbformat_minor": 4
}
