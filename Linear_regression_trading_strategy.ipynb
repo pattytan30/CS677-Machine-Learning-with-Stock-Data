{
 "cells": [
  {
   "cell_type": "code",
   "execution_count": 1,
   "metadata": {},
   "outputs": [],
   "source": [
    "import pandas as pd\n",
    "import numpy as np\n",
    "import matplotlib.pyplot as plt\n",
    "from sklearn.linear_model import LinearRegression\n",
    "from sklearn.metrics import r2_score\n",
    "\n",
    "df = pd.read_csv(\"Trade_18_19.csv\")\n",
    "df_18 = df.loc[df[\"Year\"] == 2018].reset_index()\n",
    "df_19 = df.loc[df[\"Year\"] == 2019].reset_index()\n"
   ]
  },
  {
   "cell_type": "code",
   "execution_count": 2,
   "metadata": {},
   "outputs": [],
   "source": [
    "'''\n",
    "linear regression strategy\n",
    "take W = 5, 6,...,30\n",
    "if PW+1 > PW:\n",
    "buy in if not having a position/ keep if having a long position/ close the short position.\n",
    "if PW+1 > PW:\n",
    "sell short if not having a position/ keep if having a short position/ close the long position.\n",
    "if PW+1 = PW:\n",
    "do nothing\n",
    "'''\n",
    "class Linear_reg:\n",
    "    def __init__(self, w, days, adj_close):\n",
    "        self.w = w\n",
    "        self.days = days\n",
    "        self.adj_close = adj_close\n",
    "        \n",
    "    def linear_reg_predict(self, day):\n",
    "        start = day\n",
    "        end = day + self.w\n",
    "        train_x = self.days[start:end]\n",
    "        train_y = self.adj_close[start:end]\n",
    "\n",
    "        reg = LinearRegression().fit(train_x, train_y)\n",
    "        predict_close = reg.predict(self.days[start:end+1])\n",
    "        w_close = train_y[-1]\n",
    "\n",
    "        return predict_close, w_close, end\n",
    "    \n",
    "    def linear_reg_strategy(self):\n",
    "\n",
    "        position = \"no\"\n",
    "        share = 0\n",
    "        action_price = 0\n",
    "        account_balance = 100 # initial invest\n",
    "        long_count = 0\n",
    "        short_count = 0\n",
    "        long_balance = 0\n",
    "        short_balance = 0\n",
    "        long_day = 0\n",
    "        short_day = 0\n",
    "        long_days = []\n",
    "        short_days = []\n",
    "\n",
    "        for day in range(len(self.days)):\n",
    "            predict = self.linear_reg_predict(day)\n",
    "            predict_close = predict[0][-1]\n",
    "            w_close = predict[1]\n",
    "            end = predict[2]\n",
    "            if end == self.days[-1]:\n",
    "                break\n",
    "\n",
    "            if predict_close > w_close:\n",
    "                if position == \"no\": # buy in\n",
    "                    share = account_balance / w_close\n",
    "                    action_price = w_close\n",
    "                    position = \"long\"\n",
    "                    long_count += 1\n",
    "                    long_day += 1\n",
    "                elif position == \"long\": # keep the position\n",
    "                    long_count += 1\n",
    "                    long_day += 1\n",
    "                elif position == \"short\": # close the short position\n",
    "                    short_profit_loss = (action_price - w_close) * share\n",
    "                    account_balance += short_profit_loss\n",
    "                    short_balance += short_profit_loss\n",
    "                    position = \"no\"\n",
    "                    short_days.append(short_day)\n",
    "                    short_day = 0\n",
    "\n",
    "            elif predict_close < w_close:\n",
    "                if position == \"no\": # sell short\n",
    "                    share = account_balance / w_close\n",
    "                    action_price = w_close\n",
    "                    position = \"short\"\n",
    "                    short_count += 1\n",
    "                    short_day += 1\n",
    "                elif position == \"short\": # keep the position\n",
    "                    short_count += 1\n",
    "                    short_day += 1\n",
    "                elif position == \"long\": # close the long position\n",
    "                    long_profit_loss = (w_close - action_price) * share\n",
    "                    account_balance += long_profit_loss\n",
    "                    long_balance += long_profit_loss\n",
    "                    position = \"no\"\n",
    "                    long_days.append(long_day)\n",
    "                    long_day = 0\n",
    "\n",
    "            elif predict_close == w_close:\n",
    "                    continue\n",
    "\n",
    "        return account_balance, long_count, short_count, long_balance, short_balance, long_days, short_days"
   ]
  },
  {
   "cell_type": "markdown",
   "metadata": {},
   "source": [
    "### 1. Find the best size of W with 2018 data"
   ]
  },
  {
   "cell_type": "code",
   "execution_count": 3,
   "metadata": {},
   "outputs": [
    {
     "data": {
      "image/png": "[encoded data removed]",
      "text/plain": [
       "<Figure size 432x288 with 1 Axes>"
      ]
     },
     "metadata": {
      "needs_background": "light"
     },
     "output_type": "display_data"
    },
    {
     "name": "stdout",
     "output_type": "stream",
     "text": [
      "The best size of W is 30\n"
     ]
    }
   ],
   "source": [
    "adj_close_18 = df_18[[\"Adj Close\"]].values\n",
    "days_18 = np.array(range(len(df_18[\"index\"]))).reshape(-1, 1)\n",
    "window_w = [ i for i in range(5,31)]\n",
    "\n",
    "w_average_profit = []\n",
    "for w in window_w:\n",
    "    linear_18 = Linear_reg(w, days_18, adj_close_18)\n",
    "    strategy_18 = linear_18.linear_reg_strategy()\n",
    "    total_profit_loss = strategy_18[0] - 100 # initial invest\n",
    "    trade_count = strategy_18[1] + strategy_18[2]\n",
    "    avg_profit_per_trade = total_profit_loss / trade_count\n",
    "    w_average_profit.append(avg_profit_per_trade)\n",
    "\n",
    "plt.plot(window_w, w_average_profit)\n",
    "plt.xlabel(\"The size of window W\")\n",
    "plt.ylabel(\"Average profit or loss per trade\")\n",
    "plt.title(\"W and avg P/L per trade for 2018\")\n",
    "plt.show()\n",
    "opt_w_18 = window_w[w_average_profit.index(max(w_average_profit))]\n",
    "print(\"The best size of W is\", opt_w_18)"
   ]
  },
  {
   "cell_type": "markdown",
   "metadata": {},
   "source": [
    "### 2. Calculate the R squared values for 2019, with the optimal W value from 2018"
   ]
  },
  {
   "cell_type": "code",
   "execution_count": 4,
   "metadata": {},
   "outputs": [
    {
     "data": {
      "image/png": "[encoded data removed]",
      "text/plain": [
       "<Figure size 432x288 with 1 Axes>"
      ]
     },
     "metadata": {
      "needs_background": "light"
     },
     "output_type": "display_data"
    }
   ],
   "source": [
    "optimal_w = opt_w_18\n",
    "days_19 = np.array(range(len(df_19[\"index\"]))).reshape(-1, 1)\n",
    "adj_close_19 = df_19[[\"Adj Close\"]].values\n",
    "\n",
    "\n",
    "r2_score_list = []\n",
    "predict_list = []\n",
    "for day in range(len(days_19)):\n",
    "    linear_19 = Linear_reg(optimal_w, days_19, adj_close_19)\n",
    "    predict_19 = linear_19.linear_reg_predict(day)\n",
    "    predict_y = predict_19[0][-1]\n",
    "    predict_list.append(predict_y)\n",
    "    predict_index = predict_19[2]\n",
    "    if predict_index == days_19[-1]:\n",
    "        break\n",
    "    test_day_y = adj_close_19[day:predict_index+1]\n",
    "    predict_day_y = predict_19[0]\n",
    "    r2 = r2_score(test_day_y , predict_day_y)\n",
    "    r2_score_list.append(r2)\n",
    "\n",
    "w_days = list(range(optimal_w, len(df_19[\"index\"])-1))\n",
    "plt.plot(w_days, r2_score_list)\n",
    "plt.xlabel(\"Day of the year\")\n",
    "plt.ylabel(\"R2\")\n",
    "plt.title(\"Day and R2 for 2019\")\n",
    "plt.show()"
   ]
  },
  {
   "cell_type": "code",
   "execution_count": 5,
   "metadata": {},
   "outputs": [
    {
     "name": "stdout",
     "output_type": "stream",
     "text": [
      "The R squared of all prediction is 0.89\n"
     ]
    }
   ],
   "source": [
    "test_y_all = adj_close_19[optimal_w:]\n",
    "avg_r2 = r2_score(test_y_all, np.array(predict_list))\n",
    "print(\"The R squared of all prediction is\", round(avg_r2, 2))"
   ]
  },
  {
   "cell_type": "markdown",
   "metadata": {},
   "source": [
    "### 3. How many long and short position transactions for 2019?"
   ]
  },
  {
   "cell_type": "code",
   "execution_count": 6,
   "metadata": {},
   "outputs": [
    {
     "name": "stdout",
     "output_type": "stream",
     "text": [
      "Long position: 84 \n",
      "Short position: 108\n"
     ]
    }
   ],
   "source": [
    "strategy_19 = linear_19.linear_reg_strategy()\n",
    "print(\"Long position:\", strategy_19[1],\\\n",
    "     \"\\nShort position:\", strategy_19[2])"
   ]
  },
  {
   "cell_type": "markdown",
   "metadata": {},
   "source": [
    "### 4. What is the average profit/loss per \"long position\" trade and per \"short position\" trade in 2019?"
   ]
  },
  {
   "cell_type": "code",
   "execution_count": 7,
   "metadata": {},
   "outputs": [
    {
     "name": "stdout",
     "output_type": "stream",
     "text": [
      "Avg profit/loss per long position: 0.18 \n",
      "Avg profit/loss per short position: -0.16\n"
     ]
    }
   ],
   "source": [
    "profit_per_long = strategy_19[3] / strategy_19[1]\n",
    "profit_per_short = strategy_19[4] / strategy_19[2]\n",
    "print(\"Avg profit/loss per long position:\", round(profit_per_long[0],2),\\\n",
    "     \"\\nAvg profit/loss per short position:\", round(profit_per_short[0],2))"
   ]
  },
  {
   "cell_type": "markdown",
   "metadata": {},
   "source": [
    "### 5. What is the average number of days for long position and short position transactions in 2019?"
   ]
  },
  {
   "cell_type": "code",
   "execution_count": 8,
   "metadata": {},
   "outputs": [
    {
     "name": "stdout",
     "output_type": "stream",
     "text": [
      "Avg number of days for long position: 6.46 \n",
      "Avg number of days for short position: 6.0\n"
     ]
    }
   ],
   "source": [
    "avg_long_days = np.mean(strategy_19[-2])\n",
    "avg_short_days = np.mean(strategy_19[-1])\n",
    "print(\"Avg number of days for long position:\", round(avg_long_days,2),\\\n",
    "     \"\\nAvg number of days for short position:\", round(avg_short_days,2))"
   ]
  },
  {
   "cell_type": "markdown",
   "metadata": {},
   "source": [
    "### 6. Compare 2018 and 2019"
   ]
  },
  {
   "cell_type": "code",
   "execution_count": 9,
   "metadata": {},
   "outputs": [
    {
     "name": "stdout",
     "output_type": "stream",
     "text": [
      "Avg profit or loss per trade in 2019:  -0.009992211165982553 \n",
      "Avg profit or loss per trade in 2018:  -0.0543642971541135\n"
     ]
    }
   ],
   "source": [
    "total_profit_loss_19 = strategy_19[0] - 100\n",
    "trade_count_19 = strategy_19[1] + strategy_19[2]\n",
    "avg_profit_per_trade_19 = total_profit_loss_19  / trade_count_19\n",
    "avg_profit_per_trade_18 = max(w_average_profit)\n",
    "print(\"Avg profit or loss per trade in 2019: \", avg_profit_per_trade_19[0],\\\n",
    "     \"\\nAvg profit or loss per trade in 2018: \", avg_profit_per_trade_18[0])"
   ]
  },
  {
   "cell_type": "markdown",
   "metadata": {},
   "source": [
    "2019 did not loss as much as 2018"
   ]
  },
  {
   "cell_type": "code",
   "execution_count": null,
   "metadata": {},
   "outputs": [],
   "source": []
  },
  {
   "cell_type": "code",
   "execution_count": null,
   "metadata": {},
   "outputs": [],
   "source": []
  }
 ],
 "metadata": {
  "kernelspec": {
   "display_name": "Python 3",
   "language": "python",
   "name": "python3"
  },
  "language_info": {
   "codemirror_mode": {
    "name": "ipython",
    "version": 3
   },
   "file_extension": ".py",
   "mimetype": "text/x-python",
   "name": "python",
   "nbconvert_exporter": "python",
   "pygments_lexer": "ipython3",
   "version": "3.7.6"
  }
 },
 "nbformat": 4,
 "nbformat_minor": 4
}
