{
 "cells": [
  {
   "cell_type": "code",
   "execution_count": 30,
   "metadata": {},
   "outputs": [],
   "source": [
    "# Shapley Feature Explanations \n",
    "\n",
    "import pandas as pd\n",
    "import numpy as np\n",
    "from sklearn.linear_model import LogisticRegression\n",
    "from sklearn.preprocessing import StandardScaler\n",
    "from sklearn.neighbors import KNeighborsClassifier\n",
    "from sklearn.metrics import accuracy_score\n",
    "\n",
    "df = pd.read_csv(\"TSLA_weekly_return_volatility.csv\")\n",
    "df_18 = df.loc[df[\"Year\"] == 2018].reset_index()\n",
    "df_19 = df.loc[df[\"Year\"] == 2019].reset_index()\n",
    "\n",
    "# For all feature\n",
    "# 2018 for training\n",
    "X_train = df_18[[\"mean_return\", \"volatility\"]].values\n",
    "Y_train = df_18[\"label\"].values\n",
    "# Y_train = LabelEncoder().fit_transform(Y_train)\n",
    "\n",
    "# 2019 for testing\n",
    "X_test = df_19[[\"mean_return\", \"volatility\"]].values\n",
    "Y_test = df_19[\"label\"].values\n",
    "# Y_test = LabelEncoder().fit_transform(Y_test)\n",
    "\n",
    "# Use mean to train\n",
    "x_train_mean = df_18[[\"mean_return\"]].values\n",
    "x_test_mean = df_19[[\"mean_return\"]].values\n",
    "\n",
    "# Use volatility to train\n",
    "x_train_volatility = df_18[[\"volatility\"]].values\n",
    "x_test_volatility = df_19[[\"volatility\"]].values\n",
    "\n",
    "# Xtrain/ Xtest: reshape single column to (-1,1)"
   ]
  },
  {
   "cell_type": "markdown",
   "metadata": {},
   "source": [
    "### Compute the contributions of mean and volatility for Logistic regression"
   ]
  },
  {
   "cell_type": "code",
   "execution_count": 31,
   "metadata": {},
   "outputs": [],
   "source": [
    "def log_reg_pred(x_train, y_train, x_test):\n",
    "    log_reg_classifier = LogisticRegression()\n",
    "    log_reg_classifier.fit(x_train, y_train)\n",
    "    pred_y = log_reg_classifier.predict(x_test)\n",
    "    return pred_y\n",
    "\n",
    "# All features\n",
    "log_pred_all = log_reg_pred(X_train ,Y_train, X_test)\n",
    "log_all_accuracy = accuracy_score(Y_test, log_pred_all)\n",
    "\n",
    "# Remove volatility, use mean for training\n",
    "log_pred_1 = log_reg_pred(x_train_mean, Y_train, x_test_mean)\n",
    "log_accuracy_1 = accuracy_score(Y_test, log_pred_1)\n",
    "\n",
    "# Remove mean, use volatility for training\n",
    "log_pred_2 = log_reg_pred(x_train_volatility, Y_train, x_test_volatility)\n",
    "log_accuracy_2 = accuracy_score(Y_test, log_pred_2)\n",
    "\n",
    "# Marginal contribution of each feature\n",
    "log_mrgnl_contribution_mean = log_all_accuracy - log_accuracy_2 \n",
    "log_mrgnl_contribution_volatility = log_all_accuracy - log_accuracy_1 "
   ]
  },
  {
   "cell_type": "markdown",
   "metadata": {},
   "source": [
    "### Compute the contributions of mean and volatility for Euclidean kNN"
   ]
  },
  {
   "cell_type": "code",
   "execution_count": 32,
   "metadata": {},
   "outputs": [],
   "source": [
    "def knn_pred(k, x_train, y_train, x_test):\n",
    "    # scaling\n",
    "    scale_X = StandardScaler().fit(x_train)\n",
    "    x_train = scale_X.transform(x_train)\n",
    "    x_test = scale_X.transform(x_test)\n",
    "    # model\n",
    "    knn_classifier = KNeighborsClassifier(n_neighbors=k, metric=\"euclidean\")\n",
    "    knn_classifier.fit(x_train, y_train)\n",
    "    knn_pred_y = knn_classifier.predict(x_test)\n",
    "    return knn_pred_y\n",
    "\n",
    "# all features\n",
    "knn_pred_all = knn_pred(5, X_train, Y_train, X_test)\n",
    "knn_all_accuracy = accuracy_score(Y_test, knn_pred_all)\n",
    "\n",
    "# Remove volatility, use mean for training\n",
    "knn_pred_1 = knn_pred(5, x_train_mean, Y_train, x_test_mean)\n",
    "knn_accuracy_1 = accuracy_score(Y_test, knn_pred_1)\n",
    "\n",
    "# Remove mean, use volatility for training\n",
    "knn_pred_2 = knn_pred(5, x_train_volatility, Y_train, x_test_volatility)\n",
    "knn_accuracy_2 = accuracy_score(Y_test, knn_pred_2)\n",
    "\n",
    "# Marginal contribution of each feature\n",
    "knn_mrgnl_contribution_mean = knn_all_accuracy - knn_accuracy_2\n",
    "knn_mrgnl_contribution_volatility = knn_all_accuracy - knn_accuracy_1"
   ]
  },
  {
   "cell_type": "markdown",
   "metadata": {},
   "source": [
    "### Tables of findings"
   ]
  },
  {
   "cell_type": "code",
   "execution_count": 33,
   "metadata": {},
   "outputs": [
    {
     "data": {
      "text/html": [
       "<style  type=\"text/css\" >\n",
       "</style><table id=\"T_48db13a6_c14c_11ea_8c4d_acde48001122\" ><caption>Accuracy Contributions</caption><thead>    <tr>        <th class=\"blank level0\" ></th>        <th class=\"col_heading level0 col0\" >All festures</th>        <th class=\"col_heading level0 col1\" >Mean for training</th>        <th class=\"col_heading level0 col2\" >Volatility for training</th>    </tr></thead><tbody>\n",
       "                <tr>\n",
       "                        <th id=\"T_48db13a6_c14c_11ea_8c4d_acde48001122level0_row0\" class=\"row_heading level0 row0\" >Logistic regression</th>\n",
       "                        <td id=\"T_48db13a6_c14c_11ea_8c4d_acde48001122row0_col0\" class=\"data row0 col0\" >0.943396</td>\n",
       "                        <td id=\"T_48db13a6_c14c_11ea_8c4d_acde48001122row0_col1\" class=\"data row0 col1\" >0.962264</td>\n",
       "                        <td id=\"T_48db13a6_c14c_11ea_8c4d_acde48001122row0_col2\" class=\"data row0 col2\" >0.547170</td>\n",
       "            </tr>\n",
       "            <tr>\n",
       "                        <th id=\"T_48db13a6_c14c_11ea_8c4d_acde48001122level0_row1\" class=\"row_heading level0 row1\" >kNN</th>\n",
       "                        <td id=\"T_48db13a6_c14c_11ea_8c4d_acde48001122row1_col0\" class=\"data row1 col0\" >0.924528</td>\n",
       "                        <td id=\"T_48db13a6_c14c_11ea_8c4d_acde48001122row1_col1\" class=\"data row1 col1\" >0.943396</td>\n",
       "                        <td id=\"T_48db13a6_c14c_11ea_8c4d_acde48001122row1_col2\" class=\"data row1 col2\" >0.415094</td>\n",
       "            </tr>\n",
       "    </tbody></table>"
      ],
      "text/plain": [
       "<pandas.io.formats.style.Styler at 0x1a1bd8fed0>"
      ]
     },
     "execution_count": 33,
     "metadata": {},
     "output_type": "execute_result"
    }
   ],
   "source": [
    "# Contributions\n",
    "columns = [\"All festures\", \"Mean for training\", \"Volatility for training\"]\n",
    "index = [\"Logistic regression\", \"kNN\"]\n",
    "table = pd.DataFrame(columns=columns, index=index)\n",
    "table.loc[\"Logistic regression\"] = [log_all_accuracy, log_accuracy_1, log_accuracy_2]\n",
    "table.loc[\"kNN\"] = [knn_all_accuracy, knn_accuracy_1, knn_accuracy_2]\n",
    "table.style.set_caption(\"Accuracy Contributions\")"
   ]
  },
  {
   "cell_type": "code",
   "execution_count": 35,
   "metadata": {},
   "outputs": [
    {
     "data": {
      "text/html": [
       "<style  type=\"text/css\" >\n",
       "</style><table id=\"T_6b979720_c14c_11ea_8c4d_acde48001122\" ><caption>Marginal Contribution of Each Feature</caption><thead>    <tr>        <th class=\"blank level0\" ></th>        <th class=\"col_heading level0 col0\" >Mean</th>        <th class=\"col_heading level0 col1\" >Volatility</th>    </tr></thead><tbody>\n",
       "                <tr>\n",
       "                        <th id=\"T_6b979720_c14c_11ea_8c4d_acde48001122level0_row0\" class=\"row_heading level0 row0\" >Logistic regression</th>\n",
       "                        <td id=\"T_6b979720_c14c_11ea_8c4d_acde48001122row0_col0\" class=\"data row0 col0\" >0.396226</td>\n",
       "                        <td id=\"T_6b979720_c14c_11ea_8c4d_acde48001122row0_col1\" class=\"data row0 col1\" >-0.018868</td>\n",
       "            </tr>\n",
       "            <tr>\n",
       "                        <th id=\"T_6b979720_c14c_11ea_8c4d_acde48001122level0_row1\" class=\"row_heading level0 row1\" >kNN</th>\n",
       "                        <td id=\"T_6b979720_c14c_11ea_8c4d_acde48001122row1_col0\" class=\"data row1 col0\" >0.509434</td>\n",
       "                        <td id=\"T_6b979720_c14c_11ea_8c4d_acde48001122row1_col1\" class=\"data row1 col1\" >-0.018868</td>\n",
       "            </tr>\n",
       "    </tbody></table>"
      ],
      "text/plain": [
       "<pandas.io.formats.style.Styler at 0x107713d50>"
      ]
     },
     "execution_count": 35,
     "metadata": {},
     "output_type": "execute_result"
    }
   ],
   "source": [
    "# Marginal contributions\n",
    "columns = [\"Mean\", \"Volatility\"]\n",
    "index = [\"Logistic regression\", \"kNN\"]\n",
    "table_c = pd.DataFrame(columns=columns, index=index)\n",
    "table_c.loc[\"Logistic regression\"] = [log_mrgnl_contribution_mean, log_mrgnl_contribution_volatility]\n",
    "table_c.loc[\"kNN\"] = [knn_mrgnl_contribution_mean, knn_mrgnl_contribution_volatility]\n",
    "table_c.style.set_caption(\"Marginal Contribution of Each Feature\")"
   ]
  },
  {
   "cell_type": "markdown",
   "metadata": {},
   "source": [
    "From the tables above, using mean only to train and test data can get a higher accuracy. The marginal contribution of mean is over 30% while the marginal contribution of volatility is -2%. In other words, when I remove volatility in training and testing, the accuracy increases by about 2%; in constrast, the accracy drops over 30% when I remove mean in training and testing."
   ]
  },
  {
   "cell_type": "code",
   "execution_count": null,
   "metadata": {},
   "outputs": [],
   "source": []
  }
 ],
 "metadata": {
  "kernelspec": {
   "display_name": "Python 3",
   "language": "python",
   "name": "python3"
  },
  "language_info": {
   "codemirror_mode": {
    "name": "ipython",
    "version": 3
   },
   "file_extension": ".py",
   "mimetype": "text/x-python",
   "name": "python",
   "nbconvert_exporter": "python",
   "pygments_lexer": "ipython3",
   "version": "3.7.6"
  }
 },
 "nbformat": 4,
 "nbformat_minor": 4
}
