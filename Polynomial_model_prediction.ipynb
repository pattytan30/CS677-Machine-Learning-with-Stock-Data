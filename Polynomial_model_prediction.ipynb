{
 "cells": [
  {
   "cell_type": "code",
   "execution_count": 1,
   "metadata": {},
   "outputs": [],
   "source": [
    "import pandas as pd\n",
    "import numpy as np\n",
    "import matplotlib.pyplot as plt\n",
    "from sklearn.metrics import confusion_matrix\n",
    "from strategy_implementation import profit_loss_balance, final_balance\n",
    "\n",
    "df = pd.read_csv(\"Trade_18_19.csv\")\n",
    "df_label = pd.read_csv(\"TSLA_weekly_return_volatility.csv\")"
   ]
  },
  {
   "cell_type": "code",
   "execution_count": 2,
   "metadata": {},
   "outputs": [],
   "source": [
    "# 2018 true labels for testing\n",
    "df_label18 = df_label.loc[df_label[\"Year\"] == 2018].reset_index()\n",
    "label_list = df_label18[\"label\"].values\n",
    "\n",
    "# prepare 2018 data\n",
    "df18 = df.loc[df[\"Year\"] == 2018].reset_index()\n",
    "grouped_df18 = df18.groupby(\"Week_Number\").tail(1)\n",
    "x = grouped_df18[\"Week_Number\"].values\n",
    "y = grouped_df18[\"Adj Close\"].values"
   ]
  },
  {
   "cell_type": "code",
   "execution_count": 3,
   "metadata": {},
   "outputs": [],
   "source": [
    "def polynomial_model(x, y, degree, w_week):\n",
    "    predicted_labels=[]\n",
    "    for week in x:\n",
    "        start = week\n",
    "        end = w_week + week\n",
    "        if end > x[-1]:\n",
    "            break\n",
    "\n",
    "        test_x = x[end]\n",
    "        train_x = x[start:end]\n",
    "        train_y = y[start:end]\n",
    "        weights = np.polyfit(train_x, train_y, degree)\n",
    "        model = np.poly1d(weights)\n",
    "        predict_y = model(test_x)\n",
    "        \n",
    "        if predict_y > train_y[-1]:\n",
    "            predicted_labels.append(\"green\")\n",
    "        elif predict_y < train_y[-1]:\n",
    "            predicted_labels.append(\"red\")\n",
    "        else:\n",
    "            predicted_labels.append(predicted_labels[-1])\n",
    "    return np.array(predicted_labels)\n",
    "\n",
    "def degree_accuracy(w_week, predicted_labels):\n",
    "    predict_start = w_week + 1\n",
    "    test_y = label_list[predict_start:]\n",
    "    correct = 0\n",
    "    for i in range(len(test_y)):\n",
    "        if predicted_labels[i] == test_y[i]: \n",
    "            correct += 1\n",
    "    accuracy = correct / len(test_y)\n",
    "    return round(accuracy,2)\n",
    "  "
   ]
  },
  {
   "cell_type": "markdown",
   "metadata": {},
   "source": [
    "## 1. Plot W accuracy for each degree"
   ]
  },
  {
   "cell_type": "code",
   "execution_count": 4,
   "metadata": {},
   "outputs": [
    {
     "data": {
      "image/png": "[encoded data removed]",
      "text/plain": [
       "<Figure size 432x288 with 1 Axes>"
      ]
     },
     "metadata": {
      "needs_background": "light"
     },
     "output_type": "display_data"
    }
   ],
   "source": [
    "degree_list = [1, 2, 3]\n",
    "w_list = [i for i in range(5,13)] # W week\n",
    "\n",
    "plt.xlabel(\"Week Number\")\n",
    "plt.ylabel(\"Accuracy\")\n",
    "plt.title(\"W Accuracy For Each Degree\")\n",
    "\n",
    "for d in degree_list:\n",
    "    acc_list = []\n",
    "    for w in w_list:\n",
    "        predictions = polynomial_model(x, y, d, w)\n",
    "        acc = degree_accuracy(w, predictions)\n",
    "        acc_list.append(acc)\n",
    "    plt.plot(w_list, acc_list, label=d)\n",
    "plt.legend()\n",
    "plt.show()"
   ]
  },
  {
   "cell_type": "markdown",
   "metadata": {},
   "source": [
    "For degree 1, the best W is 11;\n",
    "For degree 2, the best W is 11;\n",
    "For degree 3, the best W is 6."
   ]
  },
  {
   "cell_type": "markdown",
   "metadata": {},
   "source": [
    "## 2. Use the best W for each degree to predict labels for 2019"
   ]
  },
  {
   "cell_type": "code",
   "execution_count": 5,
   "metadata": {},
   "outputs": [
    {
     "name": "stdout",
     "output_type": "stream",
     "text": [
      "Accuracy for degree 1 and W 7 is 0.59.\n",
      "Accuracy for degree 2 and W 12 is 0.46.\n",
      "Accuracy for degree 3 and W 6 is 0.63.\n"
     ]
    }
   ],
   "source": [
    "# prepare 2019 data\n",
    "df19 = df.loc[df[\"Year\"] == 2019].reset_index()\n",
    "grouped_df19 = df19.groupby(\"Week_Number\").tail(1)\n",
    "x_19 = grouped_df19[\"Week_Number\"].values\n",
    "y_19 = grouped_df19[\"Adj Close\"].values\n",
    "\n",
    "# 2019 true labels for testing\n",
    "df_label19 = df_label.loc[df_label[\"Year\"] == 2019].reset_index()\n",
    "label_list19 = df_label19[\"label\"].values\n",
    "\n",
    "# degree 1\n",
    "d_1 = 1 \n",
    "w_1 = 11\n",
    "prediction_1 = polynomial_model(x_19, y_19, d_1, w_1)\n",
    "acc_1 = degree_accuracy(w_1, prediction_1)\n",
    "print(f\"Accuracy for degree 1 and W 7 is {acc_1}.\")\n",
    "\n",
    "# degree 2\n",
    "d_2 = 2 \n",
    "w_2 = 11\n",
    "prediction_2 = polynomial_model(x_19, y_19, d_2, w_2)\n",
    "acc_2 = degree_accuracy(w_2, prediction_2)\n",
    "print(f\"Accuracy for degree 2 and W 12 is {acc_2}.\")\n",
    "\n",
    "# degree 3\n",
    "d_3 = 3 \n",
    "w_3 = 6\n",
    "prediction_3 = polynomial_model(x_19, y_19, d_3, w_3)\n",
    "acc_3 = degree_accuracy(w_3, prediction_3)\n",
    "print(f\"Accuracy for degree 3 and W 6 is {acc_3}.\")"
   ]
  },
  {
   "cell_type": "markdown",
   "metadata": {},
   "source": [
    "## 3. Compute confusion matrices (for each d) for 2019"
   ]
  },
  {
   "cell_type": "code",
   "execution_count": 6,
   "metadata": {},
   "outputs": [
    {
     "name": "stdout",
     "output_type": "stream",
     "text": [
      "Confusion matrix for degree 1:\n",
      " [[ 8 14]\n",
      " [ 9 11]] \n",
      "Confusion matrix for degree 2:\n",
      " [[12 10]\n",
      " [ 8 12]] \n",
      "Confusion matrix for degree 3:\n",
      " [[12 10]\n",
      " [13 12]]\n"
     ]
    }
   ],
   "source": [
    "cm_1 = confusion_matrix(label_list19[w_1:], prediction_1)\n",
    "cm_2 = confusion_matrix(label_list19[w_2:], prediction_2)\n",
    "cm_3 = confusion_matrix(label_list19[w_3:], prediction_3)\n",
    "print(\"Confusion matrix for degree 1:\\n\", cm_1,\n",
    "     \"\\nConfusion matrix for degree 2:\\n\", cm_2,\n",
    "     \"\\nConfusion matrix for degree 3:\\n\", cm_3)"
   ]
  },
  {
   "cell_type": "markdown",
   "metadata": {},
   "source": [
    "## 4. Implement the three trading strategies"
   ]
  },
  {
   "cell_type": "code",
   "execution_count": 7,
   "metadata": {},
   "outputs": [
    {
     "name": "stdout",
     "output_type": "stream",
     "text": [
      "Final value for degree 1 linear model is 81.6\n",
      "Final value for degree 2 linear model is 79.26\n",
      "Final value for degree 3 linear model is 112.99\n"
     ]
    }
   ],
   "source": [
    "invest = 100\n",
    "def green_week_number(prediction):\n",
    "    week_num = [i for i, e in enumerate(prediction) if e == \"green\"]\n",
    "    return week_num\n",
    "\n",
    "# degree 1\n",
    "green_week_1 = green_week_number(prediction_1)\n",
    "pb_1 = profit_loss_balance(df19, invest, green_week_1)\n",
    "final_value_1 = final_balance(pb_1)\n",
    "print(\"Final value for degree 1 linear model is\", final_value_1)\n",
    "\n",
    "# degree 2\n",
    "green_week_2 = green_week_number(prediction_2)\n",
    "pb_2 = profit_loss_balance(df19, invest, green_week_2)\n",
    "final_value_2 = final_balance(pb_2)\n",
    "print(\"Final value for degree 2 linear model is\", final_value_2)\n",
    "\n",
    "# degree 3\n",
    "green_week_3 = green_week_number(prediction_3)\n",
    "pb_3 = profit_loss_balance(df19, invest, green_week_3)\n",
    "final_value_3 = final_balance(pb_3)\n",
    "print(\"Final value for degree 3 linear model is\", final_value_3)"
   ]
  },
  {
   "cell_type": "markdown",
   "metadata": {},
   "source": [
    "From the final value of three strategy implementations, the polynomial model is not very positive for stock trading. "
   ]
  },
  {
   "cell_type": "code",
   "execution_count": null,
   "metadata": {},
   "outputs": [],
   "source": []
  },
  {
   "cell_type": "code",
   "execution_count": null,
   "metadata": {},
   "outputs": [],
   "source": []
  }
 ],
 "metadata": {
  "kernelspec": {
   "display_name": "Python 3",
   "language": "python",
   "name": "python3"
  },
  "language_info": {
   "codemirror_mode": {
    "name": "ipython",
    "version": 3
   },
   "file_extension": ".py",
   "mimetype": "text/x-python",
   "name": "python",
   "nbconvert_exporter": "python",
   "pygments_lexer": "ipython3",
   "version": "3.7.6"
  }
 },
 "nbformat": 4,
 "nbformat_minor": 4
}
