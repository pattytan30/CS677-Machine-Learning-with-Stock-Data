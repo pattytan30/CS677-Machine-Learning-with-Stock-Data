{
 "cells": [
  {
   "cell_type": "code",
   "execution_count": 1,
   "metadata": {},
   "outputs": [],
   "source": [
    "import pandas as pd\n",
    "from sklearn.discriminant_analysis import LinearDiscriminantAnalysis as LDA\n",
    "from sklearn.discriminant_analysis import QuadraticDiscriminantAnalysis as QDA\n",
    "from sklearn.preprocessing import StandardScaler\n",
    "from sklearn.metrics import confusion_matrix\n",
    "from strategy_implementation import *\n",
    "\n",
    "df = pd.read_csv(\"TSLA_weekly_return_volatility.csv\")\n",
    "df_18 = df.loc[df[\"Year\"] == 2018]\n",
    "df_19 = df.loc[df[\"Year\"] == 2019]"
   ]
  },
  {
   "cell_type": "code",
   "execution_count": 2,
   "metadata": {},
   "outputs": [],
   "source": [
    "X_train = df_18[[\"mean_return\", \"volatility\"]].values\n",
    "X_test = df_19[[\"mean_return\", \"volatility\"]].values\n",
    "Y_train = df_18[\"label\"].values\n",
    "Y_test = df_19[\"label\"].values\n",
    "scaler = StandardScaler ()\n",
    "X_train = scaler.fit_transform(X_train)\n",
    "X_test = scaler.fit_transform(X_train)\n",
    "\n",
    "# Linear\n",
    "lda_classifier = LDA(n_components = 2-1).fit(X_train, Y_train)\n",
    "lda_y_predict = lda_classifier.predict(X_test)\n",
    "# Quadratic\n",
    "qda_classifier = QDA().fit(X_train, Y_train)\n",
    "qda_y_predict = qda_classifier.predict(X_test)"
   ]
  },
  {
   "cell_type": "markdown",
   "metadata": {},
   "source": [
    "### 1. Accuracy"
   ]
  },
  {
   "cell_type": "code",
   "execution_count": 3,
   "metadata": {},
   "outputs": [
    {
     "name": "stdout",
     "output_type": "stream",
     "text": [
      "The accuracy of implementing LDA for 2019 is 0.53\n",
      "The accuracy of implementing QDA for 2019 is 0.55\n"
     ]
    }
   ],
   "source": [
    "lda_accuracy = lda_classifier.score(X_test, Y_test)\n",
    "print(\"The accuracy of implementing LDA for 2019 is\", round(lda_accuracy,2))\n",
    "qda_accuracy = qda_classifier.score(X_test, Y_test)\n",
    "print(\"The accuracy of implementing QDA for 2019 is\", round(qda_accuracy,2))"
   ]
  },
  {
   "cell_type": "markdown",
   "metadata": {},
   "source": [
    "QDA has higher accuracy than LDA"
   ]
  },
  {
   "cell_type": "markdown",
   "metadata": {},
   "source": [
    "### 2. Confusion Matrix"
   ]
  },
  {
   "cell_type": "code",
   "execution_count": 4,
   "metadata": {},
   "outputs": [
    {
     "name": "stdout",
     "output_type": "stream",
     "text": [
      "The LDA confusion matrix for 2019: \n",
      " [[11 13]\n",
      " [12 17]] \n",
      "The QDA confusion matrix for 2019: \n",
      " [[11 13]\n",
      " [11 18]]\n"
     ]
    }
   ],
   "source": [
    "lda_matrix = confusion_matrix(Y_test, lda_y_predict)\n",
    "qda_matrix = confusion_matrix(Y_test, qda_y_predict)\n",
    "print(\"The LDA confusion matrix for 2019: \\n\", lda_matrix,\n",
    "     \"\\nThe QDA confusion matrix for 2019: \\n\", qda_matrix)"
   ]
  },
  {
   "cell_type": "markdown",
   "metadata": {},
   "source": [
    "### 3. True positive and true negative"
   ]
  },
  {
   "cell_type": "code",
   "execution_count": 5,
   "metadata": {},
   "outputs": [
    {
     "name": "stdout",
     "output_type": "stream",
     "text": [
      "For LDA:\n",
      " true positive rate is 0.57 \n",
      " true negative rate is 0.48 \n",
      "For QDA: \n",
      " true positive rate is 0.58 \n",
      " true negative rate is 0.5\n"
     ]
    }
   ],
   "source": [
    "# LDA\n",
    "lda_true_positive_rate = lda_matrix[1][1] / (lda_matrix[0][1] + lda_matrix[1][1])\n",
    "lda_true_negative_rate = lda_matrix[0][0] / (lda_matrix[0][0] + lda_matrix[1][0])\n",
    "# QDA\n",
    "qda_true_positive_rate = qda_matrix[1][1] / (qda_matrix[0][1] + qda_matrix[1][1])\n",
    "qda_true_negative_rate = qda_matrix[0][0] / (qda_matrix[0][0] + qda_matrix[1][0])\n",
    "print(\"For LDA:\\n true positive rate is\", round(lda_true_positive_rate, 2), \\\n",
    "     \"\\n true negative rate is\", round(lda_true_negative_rate, 2), \\\n",
    "     \"\\nFor QDA: \\n true positive rate is\", round(qda_true_positive_rate, 2), \\\n",
    "     \"\\n true negative rate is\", round(qda_true_negative_rate,2))"
   ]
  },
  {
   "cell_type": "markdown",
   "metadata": {},
   "source": [
    "### 4. Implement strategies"
   ]
  },
  {
   "cell_type": "code",
   "execution_count": 6,
   "metadata": {},
   "outputs": [
    {
     "name": "stdout",
     "output_type": "stream",
     "text": [
      "The final value of balance with LDA is 142.06\n",
      "The final value of balance with QDA is 165.09\n"
     ]
    }
   ],
   "source": [
    "df_trade = pd.read_csv(\"Trade_18_19.csv\")\n",
    "df_trade_19 = df_trade.loc[df_trade[\"Year\"] == 2019].reset_index()\n",
    "invest = 100\n",
    "\n",
    "# LDA\n",
    "lda_green_week = green_week(lda_y_predict)\n",
    "lda_df_implement = profit_loss_balance(df_trade_19, invest, lda_green_week)\n",
    "lda_final_value = final_balance(lda_df_implement)\n",
    "print(\"The final value of balance with LDA is\", lda_final_value)\n",
    "# QDA\n",
    "qda_green_week = green_week(qda_y_predict)\n",
    "qda_df_implement = profit_loss_balance(df_trade_19, invest, qda_green_week)\n",
    "qda_final_value = final_balance(qda_df_implement)\n",
    "print(\"The final value of balance with QDA is\", qda_final_value)"
   ]
  },
  {
   "cell_type": "code",
   "execution_count": 7,
   "metadata": {},
   "outputs": [
    {
     "name": "stdout",
     "output_type": "stream",
     "text": [
      "The final value of balance with the buy-and-hold strategy is 134.89\n"
     ]
    }
   ],
   "source": [
    "# buy-and-hold strategy\n",
    "adj_close = df_trade_19[\"Adj Close\"].values\n",
    "buy_in_price = adj_close[0]\n",
    "close_price = adj_close[-1]\n",
    "buy_hold_final_value = buy_hold(invest, buy_in_price, close_price)\n",
    "print(\"The final value of balance with the buy-and-hold strategy is\", buy_hold_final_value)"
   ]
  },
  {
   "cell_type": "markdown",
   "metadata": {},
   "source": [
    "QDA strategy results in a sightly higher final balance than the LDA strategy. \\\n",
    "Even though both LDA and QDA are not very profitable, they are better than the buy-and-hold strategy."
   ]
  },
  {
   "cell_type": "code",
   "execution_count": null,
   "metadata": {},
   "outputs": [],
   "source": []
  }
 ],
 "metadata": {
  "kernelspec": {
   "display_name": "Python 3",
   "language": "python",
   "name": "python3"
  },
  "language_info": {
   "codemirror_mode": {
    "name": "ipython",
    "version": 3
   },
   "file_extension": ".py",
   "mimetype": "text/x-python",
   "name": "python",
   "nbconvert_exporter": "python",
   "pygments_lexer": "ipython3",
   "version": "3.7.6"
  }
 },
 "nbformat": 4,
 "nbformat_minor": 4
}
