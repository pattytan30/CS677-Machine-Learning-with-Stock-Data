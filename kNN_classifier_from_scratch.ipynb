{
 "cells": [
  {
   "cell_type": "code",
   "execution_count": 1,
   "metadata": {},
   "outputs": [],
   "source": [
    "import pandas as pd\n",
    "import numpy as np\n",
    "from custom_knn import Custom_knn\n",
    "from data_preparation import *\n",
    "from strategy_implementation import *\n",
    "from sklearn.preprocessing import StandardScaler\n",
    "from sklearn.model_selection import train_test_split\n",
    "from sklearn.metrics import confusion_matrix"
   ]
  },
  {
   "cell_type": "code",
   "execution_count": 2,
   "metadata": {},
   "outputs": [],
   "source": [
    "df = pd.read_csv(\"TSLA_weekly_return_volatility.csv\")\n",
    "\n",
    "# best value of k from the last assignment\n",
    "k = 5\n",
    "\n",
    "# p value in different metrixs\n",
    "euclidean_p = 2\n",
    "manhattan_p = 1\n",
    "minkovski_p = 1.5\n",
    "\n",
    "def prediction_y(k, p, X_train, Y_train, X_test):\n",
    "    knn = Custom_knn(k, p)\n",
    "    knn.fit(X_train, Y_train)\n",
    "    y_predict = knn.predict(X_test)\n",
    "    return y_predict\n",
    "\n",
    "def metric_accuracy(y_predict, Y_test):\n",
    "    accuracy = sum(y_predict == Y_test)/len(y_predict)\n",
    "    return round(accuracy, 2)"
   ]
  },
  {
   "cell_type": "markdown",
   "metadata": {},
   "source": [
    "### 1. Use custom knn to train and test 2018 data"
   ]
  },
  {
   "cell_type": "code",
   "execution_count": 3,
   "metadata": {},
   "outputs": [
    {
     "name": "stdout",
     "output_type": "stream",
     "text": [
      "The euclidean accuarcy for testing 2018 data is 0.81\n",
      "The manhattan accuarcy for testing 2018 data is 0.89\n",
      "The generalized minkovski accuarcy for testing 2018 data is 0.85\n"
     ]
    }
   ],
   "source": [
    "df_18 = year_data(df, 2018)\n",
    "\n",
    "# setting x and y\n",
    "X_18 = X(df_18)\n",
    "Y_18= Y(df_18)\n",
    "\n",
    "# split 2018 data to train and test\n",
    "X_train_1, X_new, y_label, y_test = train_test_split(X_18, Y_18, test_size=0.5, random_state=3)\n",
    "scale_X = StandardScaler().fit(X_train_1)\n",
    "X_train_1 = scale_X.transform(X_train_1)\n",
    "X_new = scale_X.transform(X_new)\n",
    "\n",
    "# Euclidean distance metrics\n",
    "e_y_predict = prediction_y(k, euclidean_p, X_train_1, y_label, X_new)\n",
    "euclidean_accuracy = metric_accuracy(e_y_predict, y_test)\n",
    "print(f\"The euclidean accuarcy for testing 2018 data is {euclidean_accuracy}\")\n",
    "\n",
    "# Manhattan distance metrics\n",
    "m_y_predict = prediction_y(k, manhattan_p, X_train_1, y_label, X_new)\n",
    "manhattan_accuracy = metric_accuracy(m_y_predict, y_test)\n",
    "print(f\"The manhattan accuarcy for testing 2018 data is {manhattan_accuracy}\")\n",
    "\n",
    "# generalized Minkovski distance metrics\n",
    "mk_y_predict = prediction_y(k, minkovski_p, X_train_1, y_label, X_new)\n",
    "minkovski_accuracy = metric_accuracy(mk_y_predict, y_test)\n",
    "print(f\"The generalized minkovski accuarcy for testing 2018 data is {minkovski_accuracy}\")"
   ]
  },
  {
   "cell_type": "markdown",
   "metadata": {},
   "source": [
    "Given the k value of 3, I split 2018 data to train and test among the three distance metrics. \n",
    "The results show that the manhattan has the highest accuracy 0.89."
   ]
  },
  {
   "cell_type": "markdown",
   "metadata": {},
   "source": [
    "### 2. Test year 2 with year 1 training data"
   ]
  },
  {
   "cell_type": "code",
   "execution_count": 4,
   "metadata": {},
   "outputs": [
    {
     "name": "stdout",
     "output_type": "stream",
     "text": [
      "The euclidean accuarcy for testing 2019 data is 0.94\n",
      "The manhattan accuarcy for testing 2019 data is 0.92\n",
      "The generalized minkovski accuarcy for testing 2019 data is 0.92\n"
     ]
    }
   ],
   "source": [
    "# training\n",
    "X_train = X(df_18)\n",
    "Y_train = Y(df_18)\n",
    "\n",
    "# testing\n",
    "df_19 = year_data(df, 2019)\n",
    "X_test = X(df_19)\n",
    "Y_test = Y(df_19)\n",
    "\n",
    "#scale\n",
    "scaler = StandardScaler().fit(X_train)\n",
    "X_train = scaler.transform(X_train)\n",
    "X_test = scale_X.transform(X_test)\n",
    "\n",
    "# Euclidean distance metrics\n",
    "e_y_predict_19 = prediction_y(k, euclidean_p, X_train, Y_train, X_test)\n",
    "euclidean_accuracy_19 = metric_accuracy(e_y_predict_19, Y_test)\n",
    "print(f\"The euclidean accuarcy for testing 2019 data is {euclidean_accuracy_19}\")\n",
    "\n",
    "# Manhattan distance metrics\n",
    "m_y_predict_19 = prediction_y(k, manhattan_p, X_train, Y_train, X_test)\n",
    "manhattan_accuracy_19 = metric_accuracy(m_y_predict_19, Y_test)\n",
    "print(f\"The manhattan accuarcy for testing 2019 data is {manhattan_accuracy_19}\")\n",
    "\n",
    "# generalized Minkovski distance metrics\n",
    "mk_y_predict_19 = prediction_y(k, minkovski_p, X_train, Y_train, X_test)\n",
    "minkovski_accuracy_19 = metric_accuracy(mk_y_predict_19, Y_test)\n",
    "print(f\"The generalized minkovski accuarcy for testing 2019 data is {minkovski_accuracy_19}\")"
   ]
  },
  {
   "cell_type": "markdown",
   "metadata": {},
   "source": [
    "When it comes to testing 2019 data by training 2018 data, there is no difference on the accuracy between manhattan and minkovski metrices. "
   ]
  },
  {
   "cell_type": "markdown",
   "metadata": {},
   "source": [
    "### 3. For 2019, pick 2 weeks and draw their neighbors. p=1.5"
   ]
  },
  {
   "cell_type": "code",
   "execution_count": 5,
   "metadata": {},
   "outputs": [
    {
     "data": {
      "text/plain": [
       "array(['red', 'green', 'red', 'red', 'green', 'red', 'green', 'red',\n",
       "       'red', 'red', 'red', 'red', 'green', 'red', 'red', 'green', 'red',\n",
       "       'green', 'red', 'red', 'red', 'red', 'green', 'green', 'green',\n",
       "       'green', 'green', 'green', 'green', 'red', 'green', 'green', 'red',\n",
       "       'red', 'green', 'red', 'green', 'red', 'green', 'red', 'green',\n",
       "       'green', 'green', 'red', 'green', 'green', 'red', 'red', 'green',\n",
       "       'green', 'green', 'green', 'red'], dtype='<U32')"
      ]
     },
     "execution_count": 5,
     "metadata": {},
     "output_type": "execute_result"
    }
   ],
   "source": [
    "# minkovski \n",
    "k = 3\n",
    "p = 1.5\n",
    "mk_knn = Custom_knn(k, p)\n",
    "mk_knn.fit(X_train, Y_train)\n",
    "y_predict = mk_knn.predict(X_test)\n",
    "y_predict"
   ]
  },
  {
   "cell_type": "code",
   "execution_count": 6,
   "metadata": {
    "scrolled": true
   },
   "outputs": [
    {
     "data": {
      "image/png": "[encoded data removed]",
      "text/plain": [
       "<Figure size 432x288 with 1 Axes>"
      ]
     },
     "metadata": {
      "needs_background": "light"
     },
     "output_type": "display_data"
    }
   ],
   "source": [
    "# choose a red week: week 4\n",
    "new_x_1 = df_19.loc[3, [\"mean_return\", \"volatility\"]].values\n",
    "mk_knn.draw_decision_boundary(new_x_1)"
   ]
  },
  {
   "cell_type": "code",
   "execution_count": 7,
   "metadata": {},
   "outputs": [
    {
     "data": {
      "image/png": "[encoded data removed]",
      "text/plain": [
       "<Figure size 432x288 with 1 Axes>"
      ]
     },
     "metadata": {
      "needs_background": "light"
     },
     "output_type": "display_data"
    }
   ],
   "source": [
    "# choose a green week: week 5\n",
    "new_x_2 = df_19.loc[4, [\"mean_return\", \"volatility\"]].values\n",
    "mk_knn.draw_decision_boundary(new_x_2)"
   ]
  },
  {
   "cell_type": "markdown",
   "metadata": {},
   "source": [
    "### 4. Compute confusion matrics for 2019"
   ]
  },
  {
   "cell_type": "code",
   "execution_count": 8,
   "metadata": {},
   "outputs": [
    {
     "name": "stdout",
     "output_type": "stream",
     "text": [
      "The confusion matrix for euclidean distance(p=1): \n",
      " [[24  0]\n",
      " [ 3 26]]\n",
      "\n",
      " The confusion matrix for manhattan distance(p=2): \n",
      " [[23  1]\n",
      " [ 3 26]]\n",
      "\n",
      " The confusion matrix for minskovski distance(p=1.5): \n",
      " [[23  1]\n",
      " [ 3 26]]\n"
     ]
    }
   ],
   "source": [
    "cm_euclidean = confusion_matrix(Y_test, e_y_predict_19)\n",
    "cm_manhattan = confusion_matrix(Y_test, m_y_predict_19)\n",
    "cm_minskovski = confusion_matrix(Y_test, mk_y_predict_19)\n",
    "print(\"The confusion matrix for euclidean distance(p=1): \\n\", cm_euclidean)\n",
    "print(\"\\n The confusion matrix for manhattan distance(p=2): \\n\", cm_manhattan)\n",
    "print(\"\\n The confusion matrix for minskovski distance(p=1.5): \\n\", cm_minskovski)"
   ]
  },
  {
   "cell_type": "markdown",
   "metadata": {},
   "source": [
    "### 5. True positive rate(sensitivity or recall) and true negative rate (specificity) for 2019"
   ]
  },
  {
   "cell_type": "code",
   "execution_count": 9,
   "metadata": {},
   "outputs": [
    {
     "name": "stdout",
     "output_type": "stream",
     "text": [
      "For the euclidean distance metric, true positive rate is 100.00%, and true negative rate is 89.66%\n",
      "For the manhattan distance metric, true positive rate is 95.83%, and true negative rate is 89.66%\n",
      "For the minskovski distance metric, true positive rate is 95.83%, and true negative rate is 89.66%\n"
     ]
    }
   ],
   "source": [
    "# true positive rate (sensitivity or recall) TPR=TP/(TP+FN)\n",
    "# true negative rate (specificity) TNR=TN/(TN+FP)\n",
    "def tpr(confusion_metric):\n",
    "    tpr = confusion_metric[0][0]/ np.sum(confusion_metric[0])\n",
    "    return tpr\n",
    "\n",
    "def tnr(confusion_metric):\n",
    "    tnr = confusion_metric[1][1]/ np.sum(confusion_metric[1])\n",
    "    return tnr\n",
    "\n",
    "# euclidean\n",
    "e_tpr = tpr(cm_euclidean)\n",
    "e_tnr = tnr(cm_euclidean)\n",
    "print(f\"For the euclidean distance metric, \\\n",
    "true positive rate is {e_tpr:.2%}, and true negative rate is {e_tnr:.2%}\")\n",
    "\n",
    "# manhattan\n",
    "m_tpr = tpr(cm_manhattan)\n",
    "m_tnr = tnr(cm_manhattan)\n",
    "print(f\"For the manhattan distance metric, \\\n",
    "true positive rate is {m_tpr:.2%}, and true negative rate is {m_tnr:.2%}\")\n",
    "\n",
    "# minskovski\n",
    "mk_tpr = tpr(cm_minskovski)\n",
    "mk_tnr = tnr(cm_minskovski)\n",
    "print(f\"For the minskovski distance metric, \\\n",
    "true positive rate is {mk_tpr:.2%}, and true negative rate is {mk_tnr:.2%}\")"
   ]
  },
  {
   "cell_type": "markdown",
   "metadata": {},
   "source": [
    "The results show that euclidean distance metric has the prefect 100% true positive rate, but they all have the same true negative rate 89.66%."
   ]
  },
  {
   "cell_type": "markdown",
   "metadata": {},
   "source": [
    "### 6. Implement strategies"
   ]
  },
  {
   "cell_type": "code",
   "execution_count": 16,
   "metadata": {},
   "outputs": [
    {
     "name": "stdout",
     "output_type": "stream",
     "text": [
      "The final balance of applying euclidean metric is 469.43\n",
      "The final balance of applying manhattan metric is 469.43\n",
      "The final balance of applying minskovski metric is 469.43\n"
     ]
    }
   ],
   "source": [
    "invest = 100\n",
    "trade_18_19 = pd.read_csv(\"Trade_18_19.csv\") \n",
    "columns = [\"Week_Number\", \"Adj Close\", \"Return\"]\n",
    "trade_19 = trade_18_19.loc[trade_18_19[\"Year\"] == 2019, columns].reset_index()\n",
    "\n",
    "# euclidean\n",
    "e_y_predict_19 = df_19.loc[:, \"label\"].tolist()\n",
    "e_green_week = green_week(e_y_predict_19)\n",
    "e_profit_loss_balance = profit_loss_balance(trade_19, invest, e_green_week)\n",
    "e_final_balance = final_balance(e_profit_loss_balance)\n",
    "print(\"The final balance of applying euclidean metric is\", e_final_balance)\n",
    "\n",
    "# manhattan\n",
    "m_y_predict_19 = df_19.loc[:, \"label\"].tolist()\n",
    "m_green_week = green_week(m_y_predict_19)\n",
    "m_profit_loss_balance = profit_loss_balance(trade_19, invest, m_green_week)\n",
    "m_final_balance = final_balance(m_profit_loss_balance)\n",
    "print(\"The final balance of applying manhattan metric is\", m_final_balance)\n",
    "\n",
    "# minskovski\n",
    "mk_y_predict_19 = df_19.loc[:, \"label\"].tolist()\n",
    "mk_green_week = green_week(mk_y_predict_19)\n",
    "mk_profit_loss_balance = profit_loss_balance(trade_19, invest, mk_green_week)\n",
    "mk_final_balance = final_balance(mk_profit_loss_balance)\n",
    "print(\"The final balance of applying minskovski metric is\", mk_final_balance)"
   ]
  },
  {
   "cell_type": "code",
   "execution_count": 17,
   "metadata": {},
   "outputs": [
    {
     "name": "stdout",
     "output_type": "stream",
     "text": [
      "The final balance of buy and hold is 134.89\n"
     ]
    }
   ],
   "source": [
    "# buy and hold\n",
    "buy_in_price = trade_19.loc[0, \"Adj Close\"]\n",
    "close_price = trade_19.loc[trade_19.index[-1], \"Adj Close\"]\n",
    "buy_hold_end_value = buy_hold(invest, buy_in_price, close_price)\n",
    "print(\"The final balance of buy and hold is\", buy_hold_end_value)"
   ]
  },
  {
   "cell_type": "markdown",
   "metadata": {},
   "source": [
    "With the comparison among the four strategies, the buy and hold strategy earns the least. "
   ]
  },
  {
   "cell_type": "code",
   "execution_count": null,
   "metadata": {},
   "outputs": [],
   "source": []
  }
 ],
 "metadata": {
  "kernelspec": {
   "display_name": "Python 3",
   "language": "python",
   "name": "python3"
  },
  "language_info": {
   "codemirror_mode": {
    "name": "ipython",
    "version": 3
   },
   "file_extension": ".py",
   "mimetype": "text/x-python",
   "name": "python",
   "nbconvert_exporter": "python",
   "pygments_lexer": "ipython3",
   "version": "3.7.6"
  }
 },
 "nbformat": 4,
 "nbformat_minor": 4
}
