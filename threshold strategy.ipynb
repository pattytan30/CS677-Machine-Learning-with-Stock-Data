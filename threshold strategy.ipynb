{
 "cells": [
  {
   "cell_type": "code",
   "execution_count": 165,
   "metadata": {},
   "outputs": [
    {
     "name": "stdout",
     "output_type": "stream",
     "text": [
      "opened file for ticker:  TSLA\n",
      "Under 0 restriction: \n",
      "The average profit margin is -0.12%\n",
      "The sum of profit or loss from long postion is -45.05\n",
      "The sum of profit or loss from short postion is -130.07\n"
     ]
    },
    {
     "data": {
      "image/png": "[encoded data removed]",
      "text/plain": [
       "<Figure size 432x288 with 1 Axes>"
      ]
     },
     "metadata": {
      "needs_background": "light"
     },
     "output_type": "display_data"
    },
    {
     "name": "stdout",
     "output_type": "stream",
     "text": [
      "Under optimal restrction: \n",
      "The average profit per share is 0.23% under the restrction value 9.1%\n",
      "The sum of profit or loss from long postion is 5.39\n",
      "The sum of profit or loss from short postion is -2.86\n"
     ]
    }
   ],
   "source": [
    "import os\n",
    "import numpy as np\n",
    "from matplotlib import pyplot as plt\n",
    "\n",
    "ticker ='TSLA'\n",
    "ticker_file = os.path.join(ticker + '.csv')\n",
    "\n",
    "\n",
    "def stock_strategy(p):\n",
    "    \n",
    "    row = 2\n",
    "    cost = 100\n",
    "    account = 0\n",
    "    long_pf = []\n",
    "    short_pf = [] \n",
    "    \n",
    "    for i in table_arr[2:]:\n",
    "        open_td = float(i[7])\n",
    "        adj_close_td = float(i[12])\n",
    "        adj_close_ytd = float(table_arr[row-1][12])\n",
    "\n",
    "        if (open_td - adj_close_ytd) / adj_close_ytd > p:\n",
    "            # buy in and sell at the end of the day\n",
    "            p_or_l = (cost/open_td)*(adj_close_td - open_td)\n",
    "            long_pf.append(p_or_l)\n",
    "            account += p_or_l\n",
    "            row += 1\n",
    "\n",
    "        elif (adj_close_ytd - open_td) / adj_close_ytd > p:\n",
    "            # sell short\n",
    "            p_or_l = (cost/open_td)*(open_td - adj_close_td)\n",
    "            short_pf.append(p_or_l)\n",
    "            account += p_or_l\n",
    "            row += 1\n",
    "\n",
    "        else:\n",
    "            row += 1\n",
    "           \n",
    "    # Average daily profit\n",
    "    count = len(long_pf) + len(short_pf)\n",
    "    dp = (account / count) / 100 * 100\n",
    "    \n",
    "    # long and short position\n",
    "    long_sum = np.sum(long_pf)\n",
    "    short_sum = np.sum(short_pf)\n",
    "    \n",
    "    return {\"dp\": dp, \"long_sum\": long_sum, \"short_sum\": short_sum}\n",
    "\n",
    "\n",
    "try:   \n",
    "    with open(ticker_file) as f:\n",
    "        lines = f.read().splitlines()\n",
    "    print('opened file for ticker: ', ticker)\n",
    "    table = [line.split(\",\") for line in lines]\n",
    "    table_arr = np.array(table).reshape(1511,16)\n",
    "   \n",
    "    # Question 1 Average daily profit\n",
    "    print(\"Under 0 restriction: \")\n",
    "    p_zero = 0\n",
    "    zero_strt = stock_strategy(p_zero)\n",
    "    dp_zero = stock_strategy(p_zero)[\"dp\"]\n",
    "    print(f\"The average profit margin is {round(dp_zero, 2)}%\")\n",
    "\n",
    "    # Question 2 Long and short position under zero restriction\n",
    "    long_zero = zero_strt[\"long_sum\"]\n",
    "    short_zero = zero_strt[\"short_sum\"]\n",
    "    print(\"The sum of profit or loss from long postion is\", round(long_zero, 2))\n",
    "    print(\"The sum of profit or loss from short postion is\", round(short_zero, 2))\n",
    "    \n",
    "    # Question 3 find the threshold\n",
    "    restriction = []\n",
    "    total_dp = []\n",
    "    \n",
    "    for p in np.arange(0, 0.1, 0.001):\n",
    "        restriction.append(100 * p)\n",
    "        dp_p = stock_strategy(p)[\"dp\"]\n",
    "        total_dp.append(dp_p)\n",
    "    \n",
    "    # plot the results\n",
    "    plt.plot(restriction, total_dp)\n",
    "    plt.title(\"Average daily profit or loss per share with restriction value\")\n",
    "    plt.xlabel(\"Restrction value (%)\")\n",
    "    plt.ylabel(\"Average profit or loss per share (%)\")\n",
    "    plt.savefig(\"threshold_plot.pdf\")\n",
    "    plt.show()\n",
    "    \n",
    "    # find the optimal restriction value\n",
    "    dp_max = max(total_dp)\n",
    "    dp_max_index = total_dp.index(dp_max)\n",
    "    opt_restrction = restriction[dp_max_index]\n",
    "    print(\"Under optimal restrction: \")\n",
    "    print(f\"The average profit per share is {round(dp_max,3)}% under the restrction value {opt_restrction}%\")\n",
    "\n",
    "    # long position and short position under optimal restriction\n",
    "    opt_p = opt_restrction / 100\n",
    "    opt_strt = stock_strategy(opt_p)\n",
    "    long_pos = opt_strt[\"long_sum\"]\n",
    "    short_pos = opt_strt[\"short_sum\"]\n",
    "    print(\"The sum of profit or loss from long postion is\", round(long_pos, 2))\n",
    "    print(\"The sum of profit or loss from short postion is\", round(short_pos, 2))\n",
    "    \n",
    "    \n",
    "except Exception as e:\n",
    "    print(e)\n",
    "    print('failed to read stock data for ticker: ', ticker)"
   ]
  },
  {
   "cell_type": "markdown",
   "metadata": {},
   "source": [
    "\n",
    "# Analysis\n",
    "\n",
    "From the graph above, the optimal restriciton value is 9.1%. With the restriction, it buys stock when the overnight return is increased over 9.1% and it sells short when the overnight return is decreased over 9.1%. In other cases, it does not take actions. Given that strategy, the average profit per share is 0.23%, which is much higher than the average profit per share under no restrction, -0.12%. Either under the optimal restriction or the zero restriction, the results show that long position, buying, is more profitable than short position, selling short. It is possible because the big picture of Tesla's stock trending is promising."
   ]
  },
  {
   "cell_type": "code",
   "execution_count": null,
   "metadata": {},
   "outputs": [],
   "source": []
  }
 ],
 "metadata": {
  "kernelspec": {
   "display_name": "Python 3",
   "language": "python",
   "name": "python3"
  },
  "language_info": {
   "codemirror_mode": {
    "name": "ipython",
    "version": 3
   },
   "file_extension": ".py",
   "mimetype": "text/x-python",
   "name": "python",
   "nbconvert_exporter": "python",
   "pygments_lexer": "ipython3",
   "version": "3.7.6"
  }
 },
 "nbformat": 4,
 "nbformat_minor": 4
}
