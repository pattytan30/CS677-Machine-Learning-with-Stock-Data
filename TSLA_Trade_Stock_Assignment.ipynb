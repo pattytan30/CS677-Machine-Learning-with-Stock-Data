{
 "cells": [
  {
   "cell_type": "code",
   "execution_count": 1,
   "metadata": {},
   "outputs": [],
   "source": [
    "import pandas as pd\n",
    "import numpy as np\n",
    "\n",
    "df_label = pd.read_csv(\"TSLA_weekly_return_volatility.csv\")\n",
    "df_trade = pd.read_csv(\"TSLA.csv\")\n",
    "\n",
    "# Strart trading with 100 dollars\n",
    "invest = 100\n",
    "\n",
    "# buy hold function\n",
    "def buy_hold(invest, buy_in_price, close_price):\n",
    "    buy_in_amount = invest / buy_in_price\n",
    "    end_value = round(buy_in_amount * close_price)\n",
    "    print(f\"The final value of the account is {end_value}.\")\n",
    "    \n",
    "# identify the week of green week\n",
    "def green_week(df):\n",
    "    df_label_green = df.loc[(df[\"label\"] == \"green\")].copy()\n",
    "    green_week = df_label_green[\"Week_Number\"].tolist()\n",
    "    return green_week\n",
    "\n",
    "# calculate trading profit or loss and return daily account balance\n",
    "def profit_loss_balance(df, invest, green_week):\n",
    "    \n",
    "    df = df.copy()\n",
    "    df[\"Profit/Loss\"] = np.nan\n",
    "    df[\"Account Balance\"] = np.nan \n",
    "    \n",
    "    for index, row in df.iterrows():\n",
    "        if index == 0:\n",
    "            df[\"Profit/Loss\"].iloc[index] = 0\n",
    "            df[\"Account Balance\"].iloc[index] = invest\n",
    "            continue\n",
    "        if row[\"Week_Number\"] in green_week:\n",
    "            df[\"Profit/Loss\"].iloc[index] = df[\"Return\"].iloc[index] * df[\"Account Balance\"].iloc[index -1]\n",
    "            df[\"Account Balance\"].iloc[index] = df[\"Account Balance\"].iloc[index - 1] + df[\"Profit/Loss\"].iloc[index] \n",
    "        else:\n",
    "            df[\"Profit/Loss\"].iloc[index] = 0\n",
    "            df[\"Account Balance\"].iloc[index] = df[\"Account Balance\"].iloc[index - 1]\n",
    "    return df\n",
    "\n",
    "\n",
    "# functions for data analyses\n",
    "\n",
    "# the final weekly balance is the balance remained on the last day of each week\n",
    "def weekly_balance(df):\n",
    "    return df.groupby(\"Week_Number\").tail(1).reset_index() \n",
    "\n",
    "def avg_weekly_balance(df):\n",
    "    return round(df[\"Account Balance\"].mean(), 2)\n",
    "\n",
    "def volatility(df):\n",
    "    return round(df[\"Account Balance\"].std(), 2)\n",
    "\n",
    "def min_balance(df):\n",
    "    min_balance = df[\"Account Balance\"].min()\n",
    "    min_balance_week = df[\"Week_Number\"].iloc[df[\"Account Balance\"].argmin()]\n",
    "    print(f\"The min balance is {round(min_balance, 2)} on week {min_balance_week}.\")\n",
    "\n",
    "def max_balance(df):\n",
    "    max_balance = df[\"Account Balance\"].max()\n",
    "    max_balance_week = df[\"Week_Number\"].iloc[df[\"Account Balance\"].argmax()]\n",
    "    print(f\"The max balance is {round(max_balance, 2)} on week {max_balance_week}.\")\n",
    "\n",
    "def final_balance(df):\n",
    "    final_balance = df[\"Account Balance\"].iloc[-1]\n",
    "    print(f\"The final balance is {round(final_balance, 2)}.\")\n",
    "    \n"
   ]
  },
  {
   "cell_type": "markdown",
   "metadata": {},
   "source": [
    "#### As for green week, buy stock at the adj closing price of previous week. The profit_loss_balance function returns daily profit or loss if in green week, and it also shows the account balance after trading. As for the red week, the profit or loss is 0, so the account balance remains the same as the last day of the green week.\n"
   ]
  },
  {
   "cell_type": "code",
   "execution_count": 11,
   "metadata": {},
   "outputs": [],
   "source": [
    "# 2018 data\n",
    "df_trade_18 = df_trade[(df_trade[\"Year\"] == 2018)].reset_index()\n",
    "df_label_18 = df_label[(df_label[\"Year\"] == 2018)].reset_index()\n",
    "\n",
    "# 2019 data\n",
    "df_trade_19 = df_trade[(df_trade[\"Year\"] == 2019)].reset_index()\n",
    "df_label_19 = df_label[(df_label[\"Year\"] == 2019)].reset_index()\n",
    "\n",
    "# 2018 profit or loss and account balance\n",
    "green_week_18 = green_week(df_label_18)\n",
    "trade_18 = profit_loss_balance(df_trade_18, invest, green_week_18)\n",
    "\n",
    "# 2019 profit or loss and account balance\n",
    "green_week_19 = green_week(df_label_19)\n",
    "trade_19 = profit_loss_balance(df_trade_19, invest, green_week_19)"
   ]
  },
  {
   "cell_type": "markdown",
   "metadata": {},
   "source": [
    "## 1. What is the average and volatility of weekly balances? "
   ]
  },
  {
   "cell_type": "code",
   "execution_count": 3,
   "metadata": {},
   "outputs": [
    {
     "name": "stdout",
     "output_type": "stream",
     "text": [
      "2018: The average weekly balance is 217.79.The volatility of weekly balance is 103.76.\n",
      "2019: The average weekly balance is 201.44.The volatility of weekly balance is 100.21.\n"
     ]
    }
   ],
   "source": [
    "# 2018 average and volatility of weekly balance\n",
    "weekly_balance_18 = weekly_balance(trade_18)\n",
    "avg_weekly_balance_18 = avg_weekly_balance(weekly_balance_18)\n",
    "volatility_18 = volatility(weekly_balance_18)\n",
    "print(f\"2018: The average weekly balance is {avg_weekly_balance_18}.\\\n",
    "The volatility of weekly balance is {volatility_18}.\")\n",
    "\n",
    "# 2019 average and volatility of weekly balance\n",
    "weekly_balance_19 = weekly_balance(trade_19)\n",
    "avg_weekly_balance_19 = avg_weekly_balance(weekly_balance_19)\n",
    "volatility_19 = volatility(weekly_balance_19)\n",
    "print(f\"2019: The average weekly balance is {avg_weekly_balance_19}.\\\n",
    "The volatility of weekly balance is {volatility_19}.\")"
   ]
  },
  {
   "cell_type": "markdown",
   "metadata": {},
   "source": [
    "## 2. Plot the \"growth\" of your account. Week numbers on x, account balance on y"
   ]
  },
  {
   "cell_type": "code",
   "execution_count": 4,
   "metadata": {},
   "outputs": [
    {
     "data": {
      "text/plain": [
       "<matplotlib.axes._subplots.AxesSubplot at 0x11a245390>"
      ]
     },
     "execution_count": 4,
     "metadata": {},
     "output_type": "execute_result"
    },
    {
     "data": {
      "image/png": "[encoded data removed]",
      "text/plain": [
       "<Figure size 432x288 with 1 Axes>"
      ]
     },
     "metadata": {
      "needs_background": "light"
     },
     "output_type": "display_data"
    }
   ],
   "source": [
    "# 2018 weekly balance chart\n",
    "weekly_balance_18.plot(x = \"Week_Number\", y = \"Account Balance\", title = \"2018 Weekly Balance\")"
   ]
  },
  {
   "cell_type": "code",
   "execution_count": 5,
   "metadata": {},
   "outputs": [
    {
     "data": {
      "text/plain": [
       "<matplotlib.axes._subplots.AxesSubplot at 0x11afeb410>"
      ]
     },
     "execution_count": 5,
     "metadata": {},
     "output_type": "execute_result"
    },
    {
     "data": {
      "image/png": "[encoded data removed]",
      "text/plain": [
       "<Figure size 432x288 with 1 Axes>"
      ]
     },
     "metadata": {
      "needs_background": "light"
     },
     "output_type": "display_data"
    }
   ],
   "source": [
    "# 2019 weekly balance chart\n",
    "weekly_balance_19.plot(x = \"Week_Number\", y = \"Account Balance\", title = \"2019 Weekly Balance\")"
   ]
  },
  {
   "cell_type": "markdown",
   "metadata": {},
   "source": [
    "## 3. What (and when) was the min & max of the account?"
   ]
  },
  {
   "cell_type": "code",
   "execution_count": 6,
   "metadata": {},
   "outputs": [
    {
     "name": "stdout",
     "output_type": "stream",
     "text": [
      "2018:\n",
      "The min balance is 98.77 on week 0.\n",
      "The max balance is 430.73 on week 51.\n",
      "\n",
      "2019:\n",
      "The min balance is 100.0 on week 0.\n",
      "The max balance is 456.7 on week 51.\n"
     ]
    }
   ],
   "source": [
    "print(\"2018:\")\n",
    "min_balance(weekly_balance_18)\n",
    "max_balance(weekly_balance_18)\n",
    "\n",
    "print(\"\\n2019:\")\n",
    "min_balance(weekly_balance_19)\n",
    "max_balance(weekly_balance_19)\n"
   ]
  },
  {
   "cell_type": "markdown",
   "metadata": {},
   "source": [
    "## 4. What was the final value of the account?"
   ]
  },
  {
   "cell_type": "code",
   "execution_count": 7,
   "metadata": {},
   "outputs": [
    {
     "name": "stdout",
     "output_type": "stream",
     "text": [
      "2018:\n",
      "The final balance is 430.73.\n",
      "\n",
      "2019:\n",
      "The final balance is 456.7.\n"
     ]
    }
   ],
   "source": [
    "print(\"2018:\")\n",
    "final_balance(weekly_balance_18)\n",
    "\n",
    "print(\"\\n2019:\")\n",
    "final_balance(weekly_balance_19)"
   ]
  },
  {
   "cell_type": "markdown",
   "metadata": {},
   "source": [
    "## 5. What was the maximum duration (in weeks) that your account was growing and what was the maximum duration(in weeks) that your account was decreasing in value?"
   ]
  },
  {
   "cell_type": "markdown",
   "metadata": {},
   "source": [
    "#### Because I only invest money when the adj closing price on the last day of the week is higher than on the last day of previous week, and change into cash when the stock market goes down or in large fluctuation. In other words, when I put money in the stock market, I earn profits. Also, the trending of TSLA stock price is promising. As from time to time I earn profits from stock investment , my account balance keeps increasing without lossing money."
   ]
  },
  {
   "cell_type": "markdown",
   "metadata": {},
   "source": [
    "## Extra: Compare the investment strategy with a buy-hold strategy"
   ]
  },
  {
   "cell_type": "code",
   "execution_count": 8,
   "metadata": {},
   "outputs": [
    {
     "name": "stdout",
     "output_type": "stream",
     "text": [
      "2018:\n",
      "The final value of the account is 104.0.\n",
      "\n",
      "2019:\n",
      "The final value of the account is 135.0.\n"
     ]
    }
   ],
   "source": [
    "# 2018 buy hold \n",
    "print(\"2018:\")\n",
    "buy_hold(invest, df_trade_18[\"Adj Close\"].iloc[0], df_trade_18[\"Adj Close\"].iloc[-1])\n",
    "\n",
    "# 2019 buy hold\n",
    "print(\"\\n2019:\")\n",
    "buy_hold(invest, df_trade_19[\"Adj Close\"].iloc[0], df_trade_19[\"Adj Close\"].iloc[-1])\n",
    "\n",
    "# Invest in stock market with the closing price on the first day of the year.\n",
    "# Wait and do nothing but sell the stock at the end of the year. "
   ]
  },
  {
   "cell_type": "markdown",
   "metadata": {},
   "source": [
    "#### With buy-hold strategy, the end values of the account for both year are still about a hundred dollar, which means the profits are quite less after deducting the investment. As for the investment strategy, the final value of the account for both year increased by 4 times of initial investment, indicating that the ROI is over 300%. Therefore, the investment strategy is much better than buy-hold strategy. "
   ]
  },
  {
   "cell_type": "code",
   "execution_count": null,
   "metadata": {},
   "outputs": [],
   "source": [
    "# save 18 19 results\n",
    "df_trade_18_19 = df_trade[(df_trade[\"Year\"] >= 2018)].reset_index()\n",
    "df_label_18_19 = df_label[(df_label[\"Year\"] >= 2018)].reset_index()\n",
    "green_week_18_19 = green_week(df_label_18_19)\n",
    "trade_18_19 = profit_loss_balance(df_trade_18_19, invest, green_week_18_19)\n",
    "trade_18_19.to_csv(r\"trade_18_19.csv\")"
   ]
  }
 ],
 "metadata": {
  "kernelspec": {
   "display_name": "Python 3",
   "language": "python",
   "name": "python3"
  },
  "language_info": {
   "codemirror_mode": {
    "name": "ipython",
    "version": 3
   },
   "file_extension": ".py",
   "mimetype": "text/x-python",
   "name": "python",
   "nbconvert_exporter": "python",
   "pygments_lexer": "ipython3",
   "version": "3.7.6"
  }
 },
 "nbformat": 4,
 "nbformat_minor": 4
}
