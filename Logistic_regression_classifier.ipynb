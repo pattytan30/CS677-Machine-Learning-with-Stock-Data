{
 "cells": [
  {
   "cell_type": "code",
   "execution_count": 8,
   "metadata": {},
   "outputs": [
    {
     "data": {
      "text/html": [
       "<div>\n",
       "<style scoped>\n",
       "    .dataframe tbody tr th:only-of-type {\n",
       "        vertical-align: middle;\n",
       "    }\n",
       "\n",
       "    .dataframe tbody tr th {\n",
       "        vertical-align: top;\n",
       "    }\n",
       "\n",
       "    .dataframe thead th {\n",
       "        text-align: right;\n",
       "    }\n",
       "</style>\n",
       "<table border=\"1\" class=\"dataframe\">\n",
       "  <thead>\n",
       "    <tr style=\"text-align: right;\">\n",
       "      <th></th>\n",
       "      <th>index</th>\n",
       "      <th>Year</th>\n",
       "      <th>Week_Number</th>\n",
       "      <th>mean_return</th>\n",
       "      <th>volatility</th>\n",
       "      <th>label</th>\n",
       "    </tr>\n",
       "  </thead>\n",
       "  <tbody>\n",
       "    <tr>\n",
       "      <th>0</th>\n",
       "      <td>210</td>\n",
       "      <td>2018</td>\n",
       "      <td>0</td>\n",
       "      <td>0.42975</td>\n",
       "      <td>1.832472</td>\n",
       "      <td>green</td>\n",
       "    </tr>\n",
       "    <tr>\n",
       "      <th>1</th>\n",
       "      <td>211</td>\n",
       "      <td>2018</td>\n",
       "      <td>1</td>\n",
       "      <td>1.24340</td>\n",
       "      <td>2.890522</td>\n",
       "      <td>green</td>\n",
       "    </tr>\n",
       "  </tbody>\n",
       "</table>\n",
       "</div>"
      ],
      "text/plain": [
       "   index  Year  Week_Number  mean_return  volatility  label\n",
       "0    210  2018            0      0.42975    1.832472  green\n",
       "1    211  2018            1      1.24340    2.890522  green"
      ]
     },
     "execution_count": 8,
     "metadata": {},
     "output_type": "execute_result"
    }
   ],
   "source": [
    "import pandas as pd\n",
    "import numpy as np\n",
    "import matplotlib.pyplot as plt\n",
    "from sklearn.linear_model import LogisticRegression\n",
    "from sklearn.metrics import confusion_matrix, accuracy_score\n",
    "from strategy_implementation import profit_loss_balance, final_balance, buy_hold\n",
    "\n",
    "\n",
    "df = pd.read_csv(\"TSLA_weekly_return_volatility.csv\")\n",
    "\n",
    "# locate data of the year\n",
    "def df_year(df, year):\n",
    "    df_year = df.loc[df[\"Year\"] == year].reset_index()\n",
    "    return df_year\n",
    "\n",
    "# locate X values\n",
    "def X(df):\n",
    "    x_value = df.loc[:, [\"mean_return\", \"volatility\"]]\n",
    "    return x_value\n",
    "\n",
    "# locate Y values\n",
    "def Y(df):\n",
    "    y_value = df.loc[:, \"label\"]\n",
    "    return y_value\n",
    "\n",
    "# prepare data\n",
    "df_18 = df_year(df, 2018)\n",
    "df_19 = df_year(df, 2019)\n",
    "df_18.head(2)"
   ]
  },
  {
   "cell_type": "code",
   "execution_count": 3,
   "metadata": {},
   "outputs": [
    {
     "data": {
      "image/png": "[encoded data removed]",
      "text/plain": [
       "<Figure size 720x360 with 1 Axes>"
      ]
     },
     "metadata": {
      "needs_background": "light"
     },
     "output_type": "display_data"
    }
   ],
   "source": [
    "# scatter 2018\n",
    "green = df_18.loc[df_18[\"label\"] == \"green\"]\n",
    "red = df_18.loc[df_18[\"label\"] == \"red\"]\n",
    "fig, ax = plt.subplots(figsize=(10,5))\n",
    "ax.scatter(green[\"mean_return\"], green[\"volatility\"], s=30, c=\"g\", marker=\"o\", label=\"green week\")\n",
    "ax.scatter(red[\"mean_return\"], red[\"volatility\"], s=30, c=\"r\", marker=\"+\", label=\"red week\")\n",
    "ax.legend()\n",
    "ax.set_xlabel(\"Mean Return\")\n",
    "ax.set_ylabel(\"Volatility\")\n",
    "plt.show()"
   ]
  },
  {
   "cell_type": "markdown",
   "metadata": {},
   "source": [
    "### 1. Logisic regression equation"
   ]
  },
  {
   "cell_type": "code",
   "execution_count": 4,
   "metadata": {},
   "outputs": [
    {
     "name": "stdout",
     "output_type": "stream",
     "text": [
      "The logistic regression equation is p = 1 / 1 + exp(-(0.504 + -2.543 * x1 + 0.157 * x2)) \n"
     ]
    }
   ],
   "source": [
    "# logistic regression does not need to scale\n",
    "# 2018 for training\n",
    "X_train = X(df_18)\n",
    "Y_train = Y(df_18)\n",
    "\n",
    "# 2019 for testing\n",
    "X_test = X(df_19)\n",
    "Y_test = Y(df_19)\n",
    "\n",
    "# define the model\n",
    "log_reg_classifier = LogisticRegression()\n",
    "log_reg_classifier.fit(X_train ,Y_train)\n",
    "\n",
    "# find coefficients\n",
    "b = np.round(log_reg_classifier.coef_, 3)\n",
    "b0 = np.round(log_reg_classifier.intercept_, 3)\n",
    "# equation: p = 1 / 1 + exp(-(b0 + b1*x1 + b2*x2))\n",
    "print(f\"The logistic regression equation is p = 1 / 1 + exp(-({b0[0]} + {b[0][0]} * x1 + {b[0][1]} * x2)) \")"
   ]
  },
  {
   "cell_type": "markdown",
   "metadata": {},
   "source": [
    "### 1.1 Predict label for 2019"
   ]
  },
  {
   "cell_type": "code",
   "execution_count": 5,
   "metadata": {},
   "outputs": [
    {
     "data": {
      "text/plain": [
       "array(['red', 'green', 'red', 'red', 'green', 'red', 'red', 'red', 'red',\n",
       "       'red', 'red', 'red', 'green', 'red', 'red', 'green', 'red',\n",
       "       'green', 'red', 'red', 'red', 'red', 'green', 'green', 'green',\n",
       "       'red', 'green', 'green', 'green', 'red', 'green', 'red', 'red',\n",
       "       'red', 'green', 'red', 'green', 'red', 'red', 'red', 'green',\n",
       "       'green', 'green', 'red', 'green', 'green', 'red', 'red', 'green',\n",
       "       'green', 'green', 'green', 'red'], dtype=object)"
      ]
     },
     "execution_count": 5,
     "metadata": {},
     "output_type": "execute_result"
    }
   ],
   "source": [
    "# prediction\n",
    "prediction = log_reg_classifier.predict(X_test)\n",
    "prediction"
   ]
  },
  {
   "cell_type": "markdown",
   "metadata": {},
   "source": [
    "### 2. Calculate accuracy score"
   ]
  },
  {
   "cell_type": "code",
   "execution_count": 9,
   "metadata": {},
   "outputs": [
    {
     "name": "stdout",
     "output_type": "stream",
     "text": [
      "The overall accuracy is 0.92.\n"
     ]
    },
    {
     "data": {
      "text/plain": [
       "0.9433962264150944"
      ]
     },
     "execution_count": 9,
     "metadata": {},
     "output_type": "execute_result"
    }
   ],
   "source": [
    "accuracy = log_reg_classifier.score(X_train ,Y_train)\n",
    "print(f\"The overall accuracy is {accuracy:.2f}.\")"
   ]
  },
  {
   "cell_type": "markdown",
   "metadata": {},
   "source": [
    "### 3. Compute confusion matrix"
   ]
  },
  {
   "cell_type": "code",
   "execution_count": 6,
   "metadata": {},
   "outputs": [
    {
     "name": "stdout",
     "output_type": "stream",
     "text": [
      "The confusion matrix is \n",
      " [[22  2]\n",
      " [ 1 28]]\n"
     ]
    }
   ],
   "source": [
    "cm = confusion_matrix(Y_test, prediction)\n",
    "print(\"The confusion matrix is \\n\", cm)"
   ]
  },
  {
   "cell_type": "markdown",
   "metadata": {},
   "source": [
    "### 4. True positive rate (sensitivity or recall) and true negative rate (specificity) for year 2"
   ]
  },
  {
   "cell_type": "code",
   "execution_count": 7,
   "metadata": {},
   "outputs": [
    {
     "name": "stdout",
     "output_type": "stream",
     "text": [
      "For 2019, true positive rate is 0.92, and true negative rate is 0.97\n"
     ]
    }
   ],
   "source": [
    "# true positive rate (sensitivity or recall) TPR=TP/(TP+FN)\n",
    "true_pos_rate = 22 / (22 + 2)\n",
    "\n",
    "# true negative rate (specificity) TNR=TN/(TN+FP)\n",
    "true_neg_rate = 28 / (28 + 1)\n",
    "print(f\"For 2019, true positive rate is {true_pos_rate:.2f}, and true negative rate is {true_neg_rate:.2f}\")"
   ]
  },
  {
   "cell_type": "markdown",
   "metadata": {},
   "source": [
    "### 5. Implement the strategy"
   ]
  },
  {
   "cell_type": "code",
   "execution_count": 8,
   "metadata": {},
   "outputs": [
    {
     "name": "stdout",
     "output_type": "stream",
     "text": [
      "The final balance of logistic regression strategy implementation is 457.87\n"
     ]
    }
   ],
   "source": [
    "# assign new labels for 2019\n",
    "df_19.loc[:, \"label\"] = prediction\n",
    "green_weeks = df_19.loc[df_19[\"label\"] == \"green\", \"Week_Number\"].tolist()\n",
    "\n",
    "# select 2019 data\n",
    "trade_18_19 = pd.read_csv(\"Trade_18_19.csv\") \n",
    "columns = [\"Week_Number\", \"Adj Close\", \"Return\", \"Account Balance\"]\n",
    "trade_19 = trade_18_19.loc[trade_18_19[\"Year\"] == 2019, columns].reset_index()\n",
    "\n",
    "# import strategy implementation function from file\n",
    "invest = 100\n",
    "new_balance_19 = profit_loss_balance(trade_19, invest, green_weeks)\n",
    "new_final_balance = final_balance(new_balance_19)\n",
    "print(f\"The final balance of logistic regression strategy implementation is {new_final_balance}\")"
   ]
  },
  {
   "cell_type": "code",
   "execution_count": 9,
   "metadata": {},
   "outputs": [
    {
     "name": "stdout",
     "output_type": "stream",
     "text": [
      "The final balance of original label strategy implementation is 691.16\n"
     ]
    }
   ],
   "source": [
    "# original label strategy\n",
    "original_label_balance = final_balance(trade_19)\n",
    "print(f\"The final balance of original label strategy implementation is {original_label_balance}\")"
   ]
  },
  {
   "cell_type": "code",
   "execution_count": 10,
   "metadata": {},
   "outputs": [
    {
     "name": "stdout",
     "output_type": "stream",
     "text": [
      "The final balance of buy-and-hold strategy implementation is 134.89\n"
     ]
    }
   ],
   "source": [
    "# buy-and-hold strategy\n",
    "buy_in_price = trade_19.loc[0, \"Adj Close\"]\n",
    "close_price = trade_19.at[trade_19.index[-1], \"Adj Close\"]\n",
    "buy_hold_balance = buy_hold(invest, buy_in_price, close_price)\n",
    "print(f\"The final balance of buy-and-hold strategy implementation is {buy_hold_balance}\")"
   ]
  },
  {
   "cell_type": "markdown",
   "metadata": {},
   "source": [
    "#### With the comparison among the logistic regression strategy, original label strategy, and buy-and-hold strategy, the logistic regression strategy is much better than buy-and-hold strategy even though the original label strategy results in the highest value at the end. "
   ]
  },
  {
   "cell_type": "code",
   "execution_count": null,
   "metadata": {},
   "outputs": [],
   "source": []
  }
 ],
 "metadata": {
  "kernelspec": {
   "display_name": "Python 3",
   "language": "python",
   "name": "python3"
  },
  "language_info": {
   "codemirror_mode": {
    "name": "ipython",
    "version": 3
   },
   "file_extension": ".py",
   "mimetype": "text/x-python",
   "name": "python",
   "nbconvert_exporter": "python",
   "pygments_lexer": "ipython3",
   "version": "3.7.6"
  }
 },
 "nbformat": 4,
 "nbformat_minor": 4
}
