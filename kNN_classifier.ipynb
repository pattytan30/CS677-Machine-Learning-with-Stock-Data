{
 "cells": [
  {
   "cell_type": "code",
   "execution_count": 1,
   "metadata": {},
   "outputs": [
    {
     "data": {
      "text/html": [
       "<div>\n",
       "<style scoped>\n",
       "    .dataframe tbody tr th:only-of-type {\n",
       "        vertical-align: middle;\n",
       "    }\n",
       "\n",
       "    .dataframe tbody tr th {\n",
       "        vertical-align: top;\n",
       "    }\n",
       "\n",
       "    .dataframe thead th {\n",
       "        text-align: right;\n",
       "    }\n",
       "</style>\n",
       "<table border=\"1\" class=\"dataframe\">\n",
       "  <thead>\n",
       "    <tr style=\"text-align: right;\">\n",
       "      <th></th>\n",
       "      <th>Year</th>\n",
       "      <th>Week_Number</th>\n",
       "      <th>mean_return</th>\n",
       "      <th>volatility</th>\n",
       "      <th>label</th>\n",
       "    </tr>\n",
       "  </thead>\n",
       "  <tbody>\n",
       "    <tr>\n",
       "      <th>311</th>\n",
       "      <td>2019</td>\n",
       "      <td>48</td>\n",
       "      <td>0.36400</td>\n",
       "      <td>1.229538</td>\n",
       "      <td>red</td>\n",
       "    </tr>\n",
       "    <tr>\n",
       "      <th>312</th>\n",
       "      <td>2019</td>\n",
       "      <td>49</td>\n",
       "      <td>1.31060</td>\n",
       "      <td>1.159313</td>\n",
       "      <td>green</td>\n",
       "    </tr>\n",
       "    <tr>\n",
       "      <th>313</th>\n",
       "      <td>2019</td>\n",
       "      <td>50</td>\n",
       "      <td>2.53600</td>\n",
       "      <td>2.812083</td>\n",
       "      <td>green</td>\n",
       "    </tr>\n",
       "    <tr>\n",
       "      <th>314</th>\n",
       "      <td>2019</td>\n",
       "      <td>51</td>\n",
       "      <td>1.50175</td>\n",
       "      <td>1.431817</td>\n",
       "      <td>green</td>\n",
       "    </tr>\n",
       "    <tr>\n",
       "      <th>315</th>\n",
       "      <td>2019</td>\n",
       "      <td>52</td>\n",
       "      <td>-1.38400</td>\n",
       "      <td>3.194708</td>\n",
       "      <td>red</td>\n",
       "    </tr>\n",
       "  </tbody>\n",
       "</table>\n",
       "</div>"
      ],
      "text/plain": [
       "     Year  Week_Number  mean_return  volatility  label\n",
       "311  2019           48      0.36400    1.229538    red\n",
       "312  2019           49      1.31060    1.159313  green\n",
       "313  2019           50      2.53600    2.812083  green\n",
       "314  2019           51      1.50175    1.431817  green\n",
       "315  2019           52     -1.38400    3.194708    red"
      ]
     },
     "execution_count": 1,
     "metadata": {},
     "output_type": "execute_result"
    }
   ],
   "source": [
    "import pandas as pd\n",
    "import numpy as np\n",
    "import matplotlib.pyplot as plt\n",
    "from sklearn.preprocessing import StandardScaler\n",
    "from sklearn.neighbors import KNeighborsClassifier\n",
    "from sklearn.model_selection import train_test_split\n",
    "from sklearn.metrics import accuracy_score, confusion_matrix\n",
    "from strategy_implementation import profit_loss_balance, final_balance, buy_hold\n",
    "\n",
    "df = pd.read_csv(\"TSLA_weekly_return_volatility.csv\")\n",
    "df.tail()"
   ]
  },
  {
   "cell_type": "code",
   "execution_count": 2,
   "metadata": {},
   "outputs": [],
   "source": [
    "# define functions\n",
    "# Split dataset\n",
    "def X(df):\n",
    "    X = df.loc[:, [\"mean_return\", \"volatility\"]].values\n",
    "    return X\n",
    "\n",
    "def Y(df):\n",
    "    Y = df.loc[:, \"label\"].values\n",
    "    return Y\n",
    "\n",
    "# Feature scaling, standardize data between -1 and 1\n",
    "def split_and_scale(X, Y):\n",
    "    X_train, X_test, Y_train, Y_test = train_test_split(X, Y, test_size=0.5, random_state=3)\n",
    "    scale_X = StandardScaler().fit(X_train)\n",
    "    X_train = scale_X.transform(X_train)\n",
    "    X_test = scale_X.transform(X_test)\n",
    "    return X_train, X_test, Y_train, Y_test\n",
    "\n",
    "# Define the model\n",
    "def prediciton_k(k, X_train, X_test, Y_train):\n",
    "    knn_classifier = KNeighborsClassifier(n_neighbors=k)\n",
    "    knn_classifier.fit(X_train, Y_train)\n",
    "    pred_y = knn_classifier.predict(X_test)\n",
    "    return pred_y"
   ]
  },
  {
   "cell_type": "markdown",
   "metadata": {},
   "source": [
    "## 1. Find the optimal value of k with 2018 data"
   ]
  },
  {
   "cell_type": "code",
   "execution_count": 3,
   "metadata": {},
   "outputs": [
    {
     "data": {
      "image/png": "[encoded data removed]",
      "text/plain": [
       "<Figure size 720x360 with 1 Axes>"
      ]
     },
     "metadata": {
      "needs_background": "light"
     },
     "output_type": "display_data"
    }
   ],
   "source": [
    "# 2018 data\n",
    "df_18 = df.loc[df[\"Year\"] == 2018].reset_index()\n",
    "\n",
    "# test k with 2018 data\n",
    "X_18 = X(df_18)\n",
    "Y_18 = Y(df_18)\n",
    "X_train, X_test, Y_train, Y_test = split_and_scale(X_18, Y_18)\n",
    "error_rate = []\n",
    "for k in range (3, 12 ,2):\n",
    "    pred_y = prediciton_k(k, X_train, X_test, Y_train)\n",
    "    error_rate.append(np.mean(pred_y != Y_test))\n",
    "    \n",
    "# plot k and error rate\n",
    "fig = plt.figure(figsize =(10,5))\n",
    "ax = plt.gca()\n",
    "plt.plot(range (3,12,2), error_rate, color=\"r\", marker=\"o\", linestyle=\"--\", \n",
    "         markerfacecolor=\"b\", markersize=10)\n",
    "plt.title(\"Error rate for k: green week and red week 2018\")\n",
    "plt.xlabel(\"Number of neighbors : k\")\n",
    "plt.ylabel(\"Error Rate\")\n",
    "plt.show()"
   ]
  },
  {
   "cell_type": "markdown",
   "metadata": {},
   "source": [
    "#### From the graph, the optimal value of k for 2018 is k=7."
   ]
  },
  {
   "cell_type": "markdown",
   "metadata": {},
   "source": [
    "## 2. Apply the optimal value of k and calculate prediction's accuracy"
   ]
  },
  {
   "cell_type": "code",
   "execution_count": 4,
   "metadata": {},
   "outputs": [
    {
     "data": {
      "text/plain": [
       "array(['red', 'green', 'red', 'red', 'green', 'red', 'green', 'red',\n",
       "       'red', 'red', 'red', 'red', 'green', 'red', 'red', 'green', 'red',\n",
       "       'green', 'red', 'red', 'red', 'red', 'green', 'green', 'green',\n",
       "       'green', 'green', 'green', 'green', 'red', 'green', 'red', 'red',\n",
       "       'red', 'green', 'red', 'green', 'red', 'red', 'red', 'green',\n",
       "       'green', 'green', 'red', 'green', 'green', 'red', 'red', 'green',\n",
       "       'green', 'green', 'green', 'red'], dtype=object)"
      ]
     },
     "execution_count": 4,
     "metadata": {},
     "output_type": "execute_result"
    }
   ],
   "source": [
    "# 2019 data\n",
    "df_19 = df.loc[df[\"Year\"] == 2019].reset_index()\n",
    "\n",
    "# use 2018 to train and test k=7 with 2019 data\n",
    "k = 7\n",
    "X_19 = X(df_19) # X TEST\n",
    "Y_19 = Y(df_19) # Y TEST\n",
    "y_pred = prediciton_k(k, X_train=X_18, X_test=X_19, Y_train=Y_18)\n",
    "\n",
    "# prediction results\n",
    "y_pred"
   ]
  },
  {
   "cell_type": "code",
   "execution_count": 5,
   "metadata": {},
   "outputs": [
    {
     "name": "stdout",
     "output_type": "stream",
     "text": [
      "The accuracy score with k=7 is 0.94.\n"
     ]
    }
   ],
   "source": [
    "# calculate accuracy score\n",
    "acc_score = accuracy_score(Y_19, y_pred)\n",
    "print(f\"The accuracy score with k=7 is {acc_score:.2f}.\")"
   ]
  },
  {
   "cell_type": "code",
   "execution_count": 6,
   "metadata": {},
   "outputs": [
    {
     "name": "stdout",
     "output_type": "stream",
     "text": [
      "The confusion matrix is \n",
      " [[23  1]\n",
      " [ 2 27]]\n"
     ]
    }
   ],
   "source": [
    "# compute confusion matrix\n",
    "cm = confusion_matrix(Y_19, y_pred)\n",
    "print(\"The confusion matrix is \\n\", cm)"
   ]
  },
  {
   "cell_type": "markdown",
   "metadata": {},
   "source": [
    "#### From the confusion matrix:\n",
    "True positive: 23 ; False negative: 1 \\\n",
    "False positive: 2 ; True negative: 27"
   ]
  },
  {
   "cell_type": "code",
   "execution_count": 7,
   "metadata": {},
   "outputs": [
    {
     "name": "stdout",
     "output_type": "stream",
     "text": [
      "For 2019, true positive rate is 0.96, and true negative rate is 0.93\n"
     ]
    }
   ],
   "source": [
    "# true positive rate (sensitivity or recall) TPR=TP/(TP+FN)\n",
    "true_pos_rate = 23 / (23 + 1)\n",
    "\n",
    "# true negative rate (specificity) TNR=TN/(TN+FP)\n",
    "true_neg_rate = 27 / (27+2)\n",
    "print(f\"For 2019, true positive rate is {true_pos_rate:.2f}, and true negative rate is {true_neg_rate:.2f}\")"
   ]
  },
  {
   "cell_type": "markdown",
   "metadata": {},
   "source": [
    "## 3. Implement the prediction label as a trading strategy and compare with buy-and-hold strategy"
   ]
  },
  {
   "cell_type": "code",
   "execution_count": 8,
   "metadata": {},
   "outputs": [
    {
     "data": {
      "text/html": [
       "<div>\n",
       "<style scoped>\n",
       "    .dataframe tbody tr th:only-of-type {\n",
       "        vertical-align: middle;\n",
       "    }\n",
       "\n",
       "    .dataframe tbody tr th {\n",
       "        vertical-align: top;\n",
       "    }\n",
       "\n",
       "    .dataframe thead th {\n",
       "        text-align: right;\n",
       "    }\n",
       "</style>\n",
       "<table border=\"1\" class=\"dataframe\">\n",
       "  <thead>\n",
       "    <tr style=\"text-align: right;\">\n",
       "      <th></th>\n",
       "      <th>index</th>\n",
       "      <th>Week_Number</th>\n",
       "      <th>Adj Close</th>\n",
       "      <th>Return</th>\n",
       "    </tr>\n",
       "  </thead>\n",
       "  <tbody>\n",
       "    <tr>\n",
       "      <th>0</th>\n",
       "      <td>251</td>\n",
       "      <td>0</td>\n",
       "      <td>310.12</td>\n",
       "      <td>-0.068149</td>\n",
       "    </tr>\n",
       "    <tr>\n",
       "      <th>1</th>\n",
       "      <td>252</td>\n",
       "      <td>0</td>\n",
       "      <td>300.36</td>\n",
       "      <td>-0.031472</td>\n",
       "    </tr>\n",
       "    <tr>\n",
       "      <th>2</th>\n",
       "      <td>253</td>\n",
       "      <td>0</td>\n",
       "      <td>317.69</td>\n",
       "      <td>0.057697</td>\n",
       "    </tr>\n",
       "    <tr>\n",
       "      <th>3</th>\n",
       "      <td>254</td>\n",
       "      <td>1</td>\n",
       "      <td>334.96</td>\n",
       "      <td>0.054361</td>\n",
       "    </tr>\n",
       "    <tr>\n",
       "      <th>4</th>\n",
       "      <td>255</td>\n",
       "      <td>1</td>\n",
       "      <td>335.35</td>\n",
       "      <td>0.001164</td>\n",
       "    </tr>\n",
       "  </tbody>\n",
       "</table>\n",
       "</div>"
      ],
      "text/plain": [
       "   index  Week_Number  Adj Close    Return\n",
       "0    251            0     310.12 -0.068149\n",
       "1    252            0     300.36 -0.031472\n",
       "2    253            0     317.69  0.057697\n",
       "3    254            1     334.96  0.054361\n",
       "4    255            1     335.35  0.001164"
      ]
     },
     "execution_count": 8,
     "metadata": {},
     "output_type": "execute_result"
    }
   ],
   "source": [
    "# assign new labels for 2019\n",
    "df_19.loc[:, \"label\"] = y_pred\n",
    "green_weeks = df_19.loc[df_19[\"label\"] == \"green\", \"Week_Number\"].tolist()\n",
    "\n",
    "# select 2019 data\n",
    "trade_18_19 = pd.read_csv(\"Trade_18_19.csv\") \n",
    "columns = [\"Week_Number\", \"Adj Close\", \"Return\"]\n",
    "trade_19 = trade_18_19.loc[trade_18_19[\"Year\"] == 2019, columns].reset_index()\n",
    "trade_19.head()"
   ]
  },
  {
   "cell_type": "code",
   "execution_count": 9,
   "metadata": {},
   "outputs": [
    {
     "name": "stdout",
     "output_type": "stream",
     "text": [
      "The final balance of kNN strategy implementation is 464.31\n"
     ]
    }
   ],
   "source": [
    "# import strategy implementation function from file\n",
    "invest = 100\n",
    "new_balance_19 = profit_loss_balance(trade_19, invest, green_weeks)\n",
    "new_final_balance = final_balance(new_balance_19)\n",
    "print(f\"The final balance of kNN strategy implementation is {new_final_balance}\")"
   ]
  },
  {
   "cell_type": "code",
   "execution_count": 10,
   "metadata": {},
   "outputs": [
    {
     "name": "stdout",
     "output_type": "stream",
     "text": [
      "The final balance of buy-and-hold strategy implementation is 134.89\n"
     ]
    }
   ],
   "source": [
    "# buy-and-hold strategy\n",
    "buy_in_price = trade_19.loc[trade_19.index[0], \"Adj Close\"]\n",
    "close_price = trade_19.loc[trade_19.index[-1], \"Adj Close\"]\n",
    "buy_hold_final_balance = buy_hold(invest, buy_in_price, close_price)\n",
    "print(f\"The final balance of buy-and-hold strategy implementation is {buy_hold_final_balance}\")"
   ]
  },
  {
   "cell_type": "markdown",
   "metadata": {},
   "source": [
    "#### With the comparison of kNN strategy and buy-and-hold strategy, the final balance of kNN strategy 464.31 is much higher than the latter one 134.89, which indicates that it is better than holding stock without any action. "
   ]
  },
  {
   "cell_type": "code",
   "execution_count": null,
   "metadata": {},
   "outputs": [],
   "source": []
  }
 ],
 "metadata": {
  "kernelspec": {
   "display_name": "Python 3",
   "language": "python",
   "name": "python3"
  },
  "language_info": {
   "codemirror_mode": {
    "name": "ipython",
    "version": 3
   },
   "file_extension": ".py",
   "mimetype": "text/x-python",
   "name": "python",
   "nbconvert_exporter": "python",
   "pygments_lexer": "ipython3",
   "version": "3.7.6"
  }
 },
 "nbformat": 4,
 "nbformat_minor": 4
}
