{
 "cells": [
  {
   "cell_type": "code",
   "execution_count": 1,
   "metadata": {},
   "outputs": [],
   "source": [
    "import pandas as pd\n",
    "import numpy as np\n",
    "from sklearn import svm\n",
    "from sklearn.metrics import confusion_matrix\n",
    "from sklearn.preprocessing import StandardScaler\n",
    "from strategy_implementation import *\n",
    "\n",
    "df = pd.read_csv(\"TSLA_weekly_return_volatility.csv\")\n",
    "df_18 = df.loc[df[\"Year\"] == 2018].reset_index()\n",
    "df_19 = df.loc[df[\"Year\"] == 2019].reset_index()\n",
    "\n",
    "# data\n",
    "X_train = df_18[[\"mean_return\", \"volatility\"]].values\n",
    "Y_train = df_18[\"label\"].values\n",
    "X_test = df_19[[\"mean_return\", \"volatility\"]].values\n",
    "Y_test = df_19[\"label\"].values\n",
    "\n",
    "#scaling\n",
    "X_train = StandardScaler().fit_transform(X_train)\n",
    "X_test = StandardScaler().fit_transform(X_train)"
   ]
  },
  {
   "cell_type": "markdown",
   "metadata": {},
   "source": [
    "### 1. Linear SVM"
   ]
  },
  {
   "cell_type": "code",
   "execution_count": 2,
   "metadata": {},
   "outputs": [
    {
     "name": "stdout",
     "output_type": "stream",
     "text": [
      "The accuracy of implementing a linear SVM classifer for 2019 is 0.528\n"
     ]
    }
   ],
   "source": [
    "# model -- linear svm\n",
    "svm_linear = svm.SVC(kernel=\"linear\").fit(X_train, Y_train)\n",
    "linear_prediction = svm_linear.predict(X_test)\n",
    "\n",
    "# accuracy \n",
    "linear_acc = svm_linear.score(X_test, Y_test)\n",
    "print(\"The accuracy of implementing a linear SVM classifer for 2019 is\", round(linear_acc,3))"
   ]
  },
  {
   "cell_type": "code",
   "execution_count": 3,
   "metadata": {},
   "outputs": [
    {
     "name": "stdout",
     "output_type": "stream",
     "text": [
      "The confusion matrix for 2019: \n",
      " [[10 14]\n",
      " [11 18]]\n",
      "The true positive rate is 0.56 and the true negative rate is 0.48.\n"
     ]
    }
   ],
   "source": [
    "# confusion matrix\n",
    "cf_matrix = confusion_matrix(Y_test, linear_prediction)\n",
    "print(\"The confusion matrix for 2019: \\n\", cf_matrix)\n",
    "\n",
    "# true positive and true negative\n",
    "true_positive_rate = cf_matrix[1][1] / (cf_matrix[0][1] + cf_matrix[1][1])\n",
    "true_negative_rate = cf_matrix[0][0] / (cf_matrix[0][0] + cf_matrix[1][0])\n",
    "print(f\"The true positive rate is {round(true_positive_rate, 2)} \\\n",
    "and the true negative rate is {round(true_negative_rate, 2)}.\")"
   ]
  },
  {
   "cell_type": "markdown",
   "metadata": {},
   "source": [
    "### 2. Gaussian SVM"
   ]
  },
  {
   "cell_type": "code",
   "execution_count": 4,
   "metadata": {},
   "outputs": [
    {
     "name": "stdout",
     "output_type": "stream",
     "text": [
      "The accuracy of implementing a Gaussian SVM classifer for 2019 is 0.528\n"
     ]
    }
   ],
   "source": [
    "# model -- Gaussian svm\n",
    "svm_rbf = svm.SVC(kernel=\"rbf\").fit(X_train, Y_train)\n",
    "rbf_prediction = svm_linear.predict(X_test)\n",
    "\n",
    "# accuracy \n",
    "rbf_acc = svm_rbf.score(X_test, Y_test)\n",
    "print(\"The accuracy of implementing a Gaussian SVM classifer for 2019 is\", round(rbf_acc,3))"
   ]
  },
  {
   "cell_type": "markdown",
   "metadata": {},
   "source": [
    "### 3. Polynomial SVM"
   ]
  },
  {
   "cell_type": "code",
   "execution_count": 5,
   "metadata": {},
   "outputs": [
    {
     "name": "stdout",
     "output_type": "stream",
     "text": [
      "The accuracy of implementing a Polynomial SVM classifer for 2019 is 0.528\n"
     ]
    }
   ],
   "source": [
    "# model -- Polynomial svm\n",
    "svm_poly = svm.SVC(kernel=\"poly\").fit(X_train, Y_train)\n",
    "poly_prediction = svm_linear.predict(X_test)\n",
    "\n",
    "# accuracy \n",
    "poly_acc = svm_rbf.score(X_test, Y_test)\n",
    "print(\"The accuracy of implementing a Polynomial SVM classifer for 2019 is\", round(poly_acc,3))"
   ]
  },
  {
   "cell_type": "markdown",
   "metadata": {},
   "source": [
    "There is no difference among three kernel types. The accuracies are low."
   ]
  },
  {
   "cell_type": "markdown",
   "metadata": {},
   "source": [
    "### 4. Implement linear SVM"
   ]
  },
  {
   "cell_type": "code",
   "execution_count": 6,
   "metadata": {},
   "outputs": [
    {
     "name": "stdout",
     "output_type": "stream",
     "text": [
      "The final value of balance with strategy implementation is 153.42\n",
      "The final value of balance with the buy-and-hold strategy is 134.89\n"
     ]
    }
   ],
   "source": [
    "df_trade = pd.read_csv(\"Trade_18_19.csv\")\n",
    "df_trade_19 = df_trade.loc[df_trade[\"Year\"] == 2019].reset_index()\n",
    "invest = 100\n",
    "\n",
    "# linear svm\n",
    "green_week_index = green_week(linear_prediction)\n",
    "svm_implement = profit_loss_balance(df_trade_19, invest, green_week_index)\n",
    "svm_final_value = final_balance(svm_implement)\n",
    "print(\"The final value of balance with strategy implementation is\", svm_final_value)\n",
    "\n",
    "# buy-and-hold strategy\n",
    "adj_close = df_trade_19[\"Adj Close\"].values\n",
    "buy_in_price = adj_close[0]\n",
    "close_price = adj_close[-1]\n",
    "buy_hold_final_value = buy_hold(invest, buy_in_price, close_price)\n",
    "print(\"The final value of balance with the buy-and-hold strategy is\", buy_hold_final_value)"
   ]
  },
  {
   "cell_type": "markdown",
   "metadata": {},
   "source": [
    "Even though svm strategy earns a little more money than buy and hold, it is worse than many other classifers."
   ]
  },
  {
   "cell_type": "code",
   "execution_count": null,
   "metadata": {},
   "outputs": [],
   "source": []
  },
  {
   "cell_type": "code",
   "execution_count": null,
   "metadata": {},
   "outputs": [],
   "source": []
  }
 ],
 "metadata": {
  "kernelspec": {
   "display_name": "Python 3",
   "language": "python",
   "name": "python3"
  },
  "language_info": {
   "codemirror_mode": {
    "name": "ipython",
    "version": 3
   },
   "file_extension": ".py",
   "mimetype": "text/x-python",
   "name": "python",
   "nbconvert_exporter": "python",
   "pygments_lexer": "ipython3",
   "version": "3.7.6"
  }
 },
 "nbformat": 4,
 "nbformat_minor": 4
}
